{
 "cells": [
  {
   "cell_type": "code",
   "execution_count": 2,
   "id": "52100a00-fdc2-4085-b2df-8f591fdc3068",
   "metadata": {
    "tags": []
   },
   "outputs": [],
   "source": [
    "import numpy as np\n",
    "from PIL import Image\n",
    "import pandas as pd\n",
    "import matplotlib.pyplot as plt\n",
    "import os\n",
    "import tensorflow as tf\n",
    "from tensorflow.keras.models import Model, Sequential\n",
    "from tensorflow.keras.layers import Dense, Conv2D, Dropout, BatchNormalization, MaxPool2D, Flatten, Activation\n",
    "from tensorflow.keras.regularizers import L2\n",
    "from tensorflow.keras.callbacks import ModelCheckpoint, EarlyStopping\n",
    "from tensorflow.keras.preprocessing.image import ImageDataGenerator"
   ]
  },
  {
   "cell_type": "code",
   "execution_count": 3,
   "id": "1c3a54a2-1d9a-4543-a2cb-db0bac029f62",
   "metadata": {
    "tags": []
   },
   "outputs": [],
   "source": [
    "train = 'Brain Tumor/Training'\n",
    "test = 'Brain Tumor/Testing'"
   ]
  },
  {
   "cell_type": "code",
   "execution_count": 6,
   "id": "aa1c604a-ad8c-44f0-960d-da27f7fe1950",
   "metadata": {
    "tags": []
   },
   "outputs": [],
   "source": [
    "classes = os.listdir(test)"
   ]
  },
  {
   "cell_type": "code",
   "execution_count": 7,
   "id": "a57a3185-6730-4855-b094-e615666259fc",
   "metadata": {
    "tags": []
   },
   "outputs": [
    {
     "data": {
      "text/plain": [
       "['meningioma_tumor', 'pituitary_tumor', 'no_tumor', 'glioma_tumor']"
      ]
     },
     "execution_count": 7,
     "metadata": {},
     "output_type": "execute_result"
    }
   ],
   "source": [
    "classes"
   ]
  },
  {
   "cell_type": "code",
   "execution_count": 9,
   "id": "f7d56073-31b6-4c12-8529-c58ca5914624",
   "metadata": {
    "scrolled": true,
    "tags": []
   },
   "outputs": [
    {
     "name": "stdout",
     "output_type": "stream",
     "text": [
      "Images added  = 100\n",
      "Images added  = 200\n",
      "Images added  = 300\n"
     ]
    }
   ],
   "source": [
    "x = []\n",
    "y = []\n",
    "c = 0\n",
    "for folder in classes:\n",
    "    if folder == '.ipynb_checkpoints':\n",
    "        continue\n",
    "    for file in os.listdir(os.path.join(test, folder)):\n",
    "        # print(file)\n",
    "        # break\n",
    "        if file == '.ipynb_checkpoints':\n",
    "            continue\n",
    "        # c+=1\n",
    "        # if c<=2315:\n",
    "        #     continue\n",
    "        img = Image.open(os.path.join(os.path.join(test, folder), file))\n",
    "        img = np.array(img)\n",
    "        img = img/255.\n",
    "        img = np.resize(img,(128, 128, 3))\n",
    "        \n",
    "        if img is not None:\n",
    "            x.append(img)\n",
    "            y.append(classes.index(folder))\n",
    "            if len(x)%100 == 0:\n",
    "                print(\"Images added  =\", len(x))"
   ]
  },
  {
   "cell_type": "code",
   "execution_count": 6,
   "id": "2840921d-68de-45c0-bf0b-8346558228c2",
   "metadata": {
    "tags": []
   },
   "outputs": [],
   "source": [
    "np.save('x', x)\n",
    "np.save('y', y)"
   ]
  },
  {
   "cell_type": "code",
   "execution_count": 10,
   "id": "0212692f-e029-4ce0-bb77-94fc3a2795d3",
   "metadata": {
    "tags": []
   },
   "outputs": [
    {
     "data": {
      "text/plain": [
       "2315"
      ]
     },
     "execution_count": 10,
     "metadata": {},
     "output_type": "execute_result"
    }
   ],
   "source": [
    "len(x1)"
   ]
  },
  {
   "cell_type": "code",
   "execution_count": 7,
   "id": "154e9d5b-386b-48dd-8d6b-2a94a1e8425d",
   "metadata": {
    "tags": []
   },
   "outputs": [],
   "source": [
    "# y = np.load('y.npy')\n",
    "x = np.load('x.npy')"
   ]
  },
  {
   "cell_type": "code",
   "execution_count": 5,
   "id": "49be87b7-a95c-4ec8-bf8e-d19bd53fdbff",
   "metadata": {
    "tags": []
   },
   "outputs": [],
   "source": [
    "y = tf.keras.utils.to_categorical(y)"
   ]
  },
  {
   "cell_type": "code",
   "execution_count": 9,
   "id": "5af5feb7-8584-4e4e-893b-8ed71a1d0335",
   "metadata": {
    "scrolled": true,
    "tags": []
   },
   "outputs": [
    {
     "data": {
      "text/plain": [
       "array([[[[0.01960784, 0.01960784, 0.01960784],\n",
       "         [0.01960784, 0.01960784, 0.01960784],\n",
       "         [0.01960784, 0.01960784, 0.01960784],\n",
       "         ...,\n",
       "         [0.02745098, 0.02745098, 0.02745098],\n",
       "         [0.02745098, 0.02745098, 0.02745098],\n",
       "         [0.02745098, 0.02745098, 0.02745098]],\n",
       "\n",
       "        [[0.01960784, 0.01960784, 0.01960784],\n",
       "         [0.01960784, 0.01960784, 0.01960784],\n",
       "         [0.01960784, 0.01960784, 0.01960784],\n",
       "         ...,\n",
       "         [0.03137255, 0.03137255, 0.03137255],\n",
       "         [0.03137255, 0.03137255, 0.03137255],\n",
       "         [0.03137255, 0.03137255, 0.03137255]],\n",
       "\n",
       "        [[0.03137255, 0.03137255, 0.03137255],\n",
       "         [0.03137255, 0.03137255, 0.03137255],\n",
       "         [0.03137255, 0.03137255, 0.03137255],\n",
       "         ...,\n",
       "         [0.01568627, 0.01568627, 0.01568627],\n",
       "         [0.01176471, 0.01176471, 0.01176471],\n",
       "         [0.01176471, 0.01176471, 0.01176471]],\n",
       "\n",
       "        ...,\n",
       "\n",
       "        [[0.02745098, 0.02745098, 0.02745098],\n",
       "         [0.03137255, 0.03137255, 0.03137255],\n",
       "         [0.03529412, 0.03529412, 0.03529412],\n",
       "         ...,\n",
       "         [0.41568627, 0.41568627, 0.41568627],\n",
       "         [0.43137255, 0.43137255, 0.43137255],\n",
       "         [0.4627451 , 0.4627451 , 0.4627451 ]],\n",
       "\n",
       "        [[0.49411765, 0.49411765, 0.49411765],\n",
       "         [0.51764706, 0.51764706, 0.51764706],\n",
       "         [0.51372549, 0.51372549, 0.51372549],\n",
       "         ...,\n",
       "         [0.02745098, 0.02745098, 0.02745098],\n",
       "         [0.02745098, 0.02745098, 0.02745098],\n",
       "         [0.02745098, 0.02745098, 0.02745098]],\n",
       "\n",
       "        [[0.02745098, 0.02745098, 0.02745098],\n",
       "         [0.03137255, 0.03137255, 0.03137255],\n",
       "         [0.03137255, 0.03137255, 0.03137255],\n",
       "         ...,\n",
       "         [0.03529412, 0.03529412, 0.03529412],\n",
       "         [0.03921569, 0.03921569, 0.03921569],\n",
       "         [0.03921569, 0.03921569, 0.03921569]]],\n",
       "\n",
       "\n",
       "       [[[0.        , 0.        , 0.        ],\n",
       "         [0.        , 0.        , 0.        ],\n",
       "         [0.        , 0.        , 0.        ],\n",
       "         ...,\n",
       "         [0.        , 0.        , 0.        ],\n",
       "         [0.        , 0.        , 0.        ],\n",
       "         [0.        , 0.        , 0.        ]],\n",
       "\n",
       "        [[0.        , 0.        , 0.        ],\n",
       "         [0.        , 0.        , 0.        ],\n",
       "         [0.        , 0.        , 0.        ],\n",
       "         ...,\n",
       "         [0.        , 0.        , 0.        ],\n",
       "         [0.        , 0.        , 0.        ],\n",
       "         [0.        , 0.        , 0.        ]],\n",
       "\n",
       "        [[0.        , 0.        , 0.        ],\n",
       "         [0.        , 0.        , 0.        ],\n",
       "         [0.        , 0.        , 0.        ],\n",
       "         ...,\n",
       "         [0.        , 0.        , 0.        ],\n",
       "         [0.        , 0.        , 0.        ],\n",
       "         [0.        , 0.        , 0.        ]],\n",
       "\n",
       "        ...,\n",
       "\n",
       "        [[0.00784314, 0.00784314, 0.00784314],\n",
       "         [0.01176471, 0.01176471, 0.01176471],\n",
       "         [0.01568627, 0.01568627, 0.01568627],\n",
       "         ...,\n",
       "         [0.01176471, 0.01176471, 0.01176471],\n",
       "         [0.01176471, 0.01176471, 0.01176471],\n",
       "         [0.01176471, 0.01176471, 0.01176471]],\n",
       "\n",
       "        [[0.01176471, 0.01176471, 0.01176471],\n",
       "         [0.01176471, 0.01176471, 0.01176471],\n",
       "         [0.01176471, 0.01176471, 0.01176471],\n",
       "         ...,\n",
       "         [0.01176471, 0.01176471, 0.01176471],\n",
       "         [0.01176471, 0.01176471, 0.01176471],\n",
       "         [0.01176471, 0.01176471, 0.01176471]],\n",
       "\n",
       "        [[0.01176471, 0.01176471, 0.01176471],\n",
       "         [0.01176471, 0.01176471, 0.01176471],\n",
       "         [0.01176471, 0.01176471, 0.01176471],\n",
       "         ...,\n",
       "         [0.        , 0.        , 0.        ],\n",
       "         [0.        , 0.        , 0.        ],\n",
       "         [0.        , 0.        , 0.        ]]],\n",
       "\n",
       "\n",
       "       [[[0.        , 0.        , 0.        ],\n",
       "         [0.        , 0.        , 0.        ],\n",
       "         [0.        , 0.        , 0.        ],\n",
       "         ...,\n",
       "         [0.        , 0.        , 0.        ],\n",
       "         [0.        , 0.        , 0.        ],\n",
       "         [0.        , 0.        , 0.        ]],\n",
       "\n",
       "        [[0.        , 0.        , 0.        ],\n",
       "         [0.        , 0.        , 0.        ],\n",
       "         [0.        , 0.        , 0.        ],\n",
       "         ...,\n",
       "         [0.        , 0.        , 0.        ],\n",
       "         [0.        , 0.        , 0.        ],\n",
       "         [0.        , 0.        , 0.        ]],\n",
       "\n",
       "        [[0.        , 0.        , 0.        ],\n",
       "         [0.        , 0.        , 0.        ],\n",
       "         [0.        , 0.        , 0.        ],\n",
       "         ...,\n",
       "         [0.        , 0.        , 0.        ],\n",
       "         [0.        , 0.        , 0.        ],\n",
       "         [0.        , 0.        , 0.        ]],\n",
       "\n",
       "        ...,\n",
       "\n",
       "        [[0.68235294, 0.68235294, 0.68235294],\n",
       "         [0.66666667, 0.66666667, 0.66666667],\n",
       "         [0.64313725, 0.64313725, 0.64313725],\n",
       "         ...,\n",
       "         [0.48235294, 0.48235294, 0.48235294],\n",
       "         [0.38823529, 0.38823529, 0.38823529],\n",
       "         [0.49411765, 0.49411765, 0.49411765]],\n",
       "\n",
       "        [[0.58039216, 0.58039216, 0.58039216],\n",
       "         [0.59215686, 0.59215686, 0.59215686],\n",
       "         [0.60784314, 0.60784314, 0.60784314],\n",
       "         ...,\n",
       "         [0.04313725, 0.04313725, 0.04313725],\n",
       "         [0.02745098, 0.02745098, 0.02745098],\n",
       "         [0.02745098, 0.02745098, 0.02745098]],\n",
       "\n",
       "        [[0.02745098, 0.02745098, 0.02745098],\n",
       "         [0.02745098, 0.02745098, 0.02745098],\n",
       "         [0.02745098, 0.02745098, 0.02745098],\n",
       "         ...,\n",
       "         [0.69411765, 0.69411765, 0.69411765],\n",
       "         [0.72156863, 0.72156863, 0.72156863],\n",
       "         [0.67843137, 0.67843137, 0.67843137]]],\n",
       "\n",
       "\n",
       "       ...,\n",
       "\n",
       "\n",
       "       [[[0.        , 0.        , 0.        ],\n",
       "         [0.        , 0.        , 0.        ],\n",
       "         [0.01960784, 0.01960784, 0.01960784],\n",
       "         ...,\n",
       "         [0.19607843, 0.19607843, 0.19607843],\n",
       "         [0.18431373, 0.18431373, 0.18431373],\n",
       "         [0.18431373, 0.18431373, 0.18431373]],\n",
       "\n",
       "        [[0.17254902, 0.17254902, 0.17254902],\n",
       "         [0.07843137, 0.07843137, 0.07843137],\n",
       "         [0.05490196, 0.05490196, 0.05490196],\n",
       "         ...,\n",
       "         [0.00392157, 0.00392157, 0.00392157],\n",
       "         [0.01176471, 0.01176471, 0.01176471],\n",
       "         [0.        , 0.        , 0.        ]],\n",
       "\n",
       "        [[0.01176471, 0.01176471, 0.01176471],\n",
       "         [0.        , 0.        , 0.        ],\n",
       "         [0.        , 0.        , 0.        ],\n",
       "         ...,\n",
       "         [0.00784314, 0.00784314, 0.00784314],\n",
       "         [0.        , 0.        , 0.        ],\n",
       "         [0.00392157, 0.00392157, 0.00392157]],\n",
       "\n",
       "        ...,\n",
       "\n",
       "        [[0.21176471, 0.21176471, 0.21176471],\n",
       "         [0.2       , 0.2       , 0.2       ],\n",
       "         [0.19215686, 0.19215686, 0.19215686],\n",
       "         ...,\n",
       "         [0.32156863, 0.32156863, 0.32156863],\n",
       "         [0.30588235, 0.30588235, 0.30588235],\n",
       "         [0.30196078, 0.30196078, 0.30196078]],\n",
       "\n",
       "        [[0.25882353, 0.25882353, 0.25882353],\n",
       "         [0.25490196, 0.25490196, 0.25490196],\n",
       "         [0.25098039, 0.25098039, 0.25098039],\n",
       "         ...,\n",
       "         [0.19607843, 0.19607843, 0.19607843],\n",
       "         [0.18823529, 0.18823529, 0.18823529],\n",
       "         [0.20784314, 0.20784314, 0.20784314]],\n",
       "\n",
       "        [[0.22745098, 0.22745098, 0.22745098],\n",
       "         [0.2745098 , 0.2745098 , 0.2745098 ],\n",
       "         [0.29803922, 0.29803922, 0.29803922],\n",
       "         ...,\n",
       "         [0.21176471, 0.21176471, 0.21176471],\n",
       "         [0.19607843, 0.19607843, 0.19607843],\n",
       "         [0.15294118, 0.15294118, 0.15294118]]],\n",
       "\n",
       "\n",
       "       [[[0.        , 0.        , 0.        ],\n",
       "         [0.        , 0.        , 0.        ],\n",
       "         [0.        , 0.        , 0.        ],\n",
       "         ...,\n",
       "         [0.        , 0.        , 0.        ],\n",
       "         [0.        , 0.        , 0.        ],\n",
       "         [0.        , 0.        , 0.        ]],\n",
       "\n",
       "        [[0.        , 0.        , 0.        ],\n",
       "         [0.        , 0.        , 0.        ],\n",
       "         [0.        , 0.        , 0.        ],\n",
       "         ...,\n",
       "         [0.        , 0.        , 0.        ],\n",
       "         [0.        , 0.        , 0.        ],\n",
       "         [0.        , 0.        , 0.        ]],\n",
       "\n",
       "        [[0.        , 0.        , 0.        ],\n",
       "         [0.        , 0.        , 0.        ],\n",
       "         [0.        , 0.        , 0.        ],\n",
       "         ...,\n",
       "         [0.        , 0.        , 0.        ],\n",
       "         [0.        , 0.        , 0.        ],\n",
       "         [0.        , 0.        , 0.        ]],\n",
       "\n",
       "        ...,\n",
       "\n",
       "        [[0.01960784, 0.01960784, 0.01960784],\n",
       "         [0.01960784, 0.01960784, 0.01960784],\n",
       "         [0.01960784, 0.01960784, 0.01960784],\n",
       "         ...,\n",
       "         [0.03137255, 0.03137255, 0.03137255],\n",
       "         [0.02352941, 0.02352941, 0.02352941],\n",
       "         [0.01960784, 0.01960784, 0.01960784]],\n",
       "\n",
       "        [[0.01960784, 0.01960784, 0.01960784],\n",
       "         [0.01960784, 0.01960784, 0.01960784],\n",
       "         [0.01960784, 0.01960784, 0.01960784],\n",
       "         ...,\n",
       "         [0.02352941, 0.02352941, 0.02352941],\n",
       "         [0.02352941, 0.02352941, 0.02352941],\n",
       "         [0.02352941, 0.02352941, 0.02352941]],\n",
       "\n",
       "        [[0.02352941, 0.02352941, 0.02352941],\n",
       "         [0.02352941, 0.02352941, 0.02352941],\n",
       "         [0.02352941, 0.02352941, 0.02352941],\n",
       "         ...,\n",
       "         [0.        , 0.        , 0.        ],\n",
       "         [0.        , 0.        , 0.        ],\n",
       "         [0.        , 0.        , 0.        ]]],\n",
       "\n",
       "\n",
       "       [[[0.        , 0.        , 0.        ],\n",
       "         [0.        , 0.        , 0.        ],\n",
       "         [0.        , 0.        , 0.        ],\n",
       "         ...,\n",
       "         [0.        , 0.        , 0.        ],\n",
       "         [0.        , 0.        , 0.        ],\n",
       "         [0.        , 0.        , 0.        ]],\n",
       "\n",
       "        [[0.        , 0.        , 0.        ],\n",
       "         [0.        , 0.        , 0.        ],\n",
       "         [0.        , 0.        , 0.        ],\n",
       "         ...,\n",
       "         [0.        , 0.        , 0.        ],\n",
       "         [0.        , 0.        , 0.        ],\n",
       "         [0.        , 0.        , 0.        ]],\n",
       "\n",
       "        [[0.        , 0.        , 0.        ],\n",
       "         [0.        , 0.        , 0.        ],\n",
       "         [0.        , 0.        , 0.        ],\n",
       "         ...,\n",
       "         [0.        , 0.        , 0.        ],\n",
       "         [0.        , 0.        , 0.        ],\n",
       "         [0.        , 0.        , 0.        ]],\n",
       "\n",
       "        ...,\n",
       "\n",
       "        [[0.10980392, 0.10980392, 0.10980392],\n",
       "         [0.10980392, 0.10980392, 0.10980392],\n",
       "         [0.11372549, 0.11372549, 0.11372549],\n",
       "         ...,\n",
       "         [0.16862745, 0.16862745, 0.16862745],\n",
       "         [0.18431373, 0.18431373, 0.18431373],\n",
       "         [0.17254902, 0.17254902, 0.17254902]],\n",
       "\n",
       "        [[0.17647059, 0.17647059, 0.17647059],\n",
       "         [0.21960784, 0.21960784, 0.21960784],\n",
       "         [0.23921569, 0.23921569, 0.23921569],\n",
       "         ...,\n",
       "         [0.08627451, 0.08627451, 0.08627451],\n",
       "         [0.08627451, 0.08627451, 0.08627451],\n",
       "         [0.08235294, 0.08235294, 0.08235294]],\n",
       "\n",
       "        [[0.09411765, 0.09411765, 0.09411765],\n",
       "         [0.09411765, 0.09411765, 0.09411765],\n",
       "         [0.03921569, 0.03921569, 0.03921569],\n",
       "         ...,\n",
       "         [0.19607843, 0.19607843, 0.19607843],\n",
       "         [0.17254902, 0.17254902, 0.17254902],\n",
       "         [0.15294118, 0.15294118, 0.15294118]]]])"
      ]
     },
     "execution_count": 9,
     "metadata": {},
     "output_type": "execute_result"
    }
   ],
   "source": [
    "x"
   ]
  },
  {
   "cell_type": "code",
   "execution_count": 4,
   "id": "4c51a3cc-1a48-4e73-9805-095857d296de",
   "metadata": {
    "tags": []
   },
   "outputs": [],
   "source": [
    "x = np.concatenate((x1, x2))\n",
    "y = np.concatenate((y1, y2))"
   ]
  },
  {
   "cell_type": "code",
   "execution_count": 18,
   "id": "b4a9b46b-c5d6-4747-a206-72af7e0a270f",
   "metadata": {
    "tags": []
   },
   "outputs": [],
   "source": [
    "x = np.concatenate((x1, np.array(x)))"
   ]
  },
  {
   "cell_type": "code",
   "execution_count": 20,
   "id": "9115d743-12e0-4970-a801-e3493be0b87c",
   "metadata": {
    "tags": []
   },
   "outputs": [],
   "source": [
    "y = np.concatenate((y1, np.array(y)))"
   ]
  },
  {
   "cell_type": "code",
   "execution_count": 12,
   "id": "ab59024a-8ff0-4aa3-8ed4-7b844630f74e",
   "metadata": {
    "tags": []
   },
   "outputs": [
    {
     "data": {
      "text/plain": [
       "(3240, 128, 128, 3)"
      ]
     },
     "execution_count": 12,
     "metadata": {},
     "output_type": "execute_result"
    }
   ],
   "source": [
    "x.shape"
   ]
  },
  {
   "cell_type": "code",
   "execution_count": 10,
   "id": "5e4a9572-8c79-48e4-8c24-d182e5a2eb6f",
   "metadata": {
    "scrolled": true,
    "tags": []
   },
   "outputs": [],
   "source": [
    "from sklearn.model_selection import train_test_split\n",
    "x_train, x_test, y_train, y_test = train_test_split(x, y, test_size = 0.1, random_state = 10)"
   ]
  },
  {
   "cell_type": "code",
   "execution_count": 13,
   "id": "4cccf8d9-eb3a-4622-9f05-d27bff080fce",
   "metadata": {
    "tags": []
   },
   "outputs": [],
   "source": [
    "x_test, x_cv, y_test, y_cv = train_test_split(x_test, y_test, test_size = 0.5, random_state = 10)"
   ]
  },
  {
   "cell_type": "code",
   "execution_count": 16,
   "id": "a5130cc4-982d-48b9-830c-17a325232ccd",
   "metadata": {
    "tags": []
   },
   "outputs": [
    {
     "data": {
      "text/plain": [
       "(162, 128, 128, 3)"
      ]
     },
     "execution_count": 16,
     "metadata": {},
     "output_type": "execute_result"
    }
   ],
   "source": [
    "x_test.shape"
   ]
  },
  {
   "cell_type": "code",
   "execution_count": 20,
   "id": "444ee059-ac38-4dbe-b1a7-d8ed340e84eb",
   "metadata": {
    "tags": []
   },
   "outputs": [],
   "source": [
    "np.save('x_train', x_train)\n",
    "np.save('y_train', y_train)\n",
    "np.save('x_test', x_test)\n",
    "np.save('y_test', y_test)\n",
    "np.save('x_cv', x_cv)\n",
    "np.save('y_cv', y_cv)"
   ]
  },
  {
   "cell_type": "code",
   "execution_count": 4,
   "id": "94b047f4-a315-4e78-867e-54b848de1887",
   "metadata": {
    "tags": []
   },
   "outputs": [],
   "source": [
    "x_train = np.load('x_train.npy')\n",
    "y_train = np.load('y_train.npy')\n",
    "x_cv = np.load('x_cv.npy')\n",
    "y_cv = np.load('y_cv.npy')"
   ]
  },
  {
   "cell_type": "code",
   "execution_count": 5,
   "id": "a8cd0dc0-45a5-4268-93c2-584f42e09ddc",
   "metadata": {
    "tags": []
   },
   "outputs": [
    {
     "data": {
      "text/plain": [
       "(2916, 128, 128, 3)"
      ]
     },
     "execution_count": 5,
     "metadata": {},
     "output_type": "execute_result"
    }
   ],
   "source": [
    "x_train.shape"
   ]
  },
  {
   "cell_type": "markdown",
   "id": "85a326f8-0bad-4458-ab83-c890e889b6f2",
   "metadata": {},
   "source": [
    "### Model"
   ]
  },
  {
   "cell_type": "code",
   "execution_count": 139,
   "id": "4d4673db-9741-4a9f-b185-b8b25471eee8",
   "metadata": {
    "tags": []
   },
   "outputs": [],
   "source": [
    "model = Sequential([\n",
    "    Conv2D(32, (3, 3), input_shape = (128, 128, 3)),\n",
    "    BatchNormalization(),\n",
    "    Activation('relu'),\n",
    "    MaxPool2D((2, 2)),\n",
    "    \n",
    "    Conv2D(64, (3, 3)),\n",
    "    BatchNormalization(),\n",
    "    Activation('relu'),\n",
    "    MaxPool2D((2, 2)),\n",
    "    \n",
    "    Conv2D(128, (3, 3)),\n",
    "    BatchNormalization(),\n",
    "    Activation('relu'),\n",
    "    MaxPool2D((2, 2)),\n",
    "    \n",
    "    Conv2D(256, (3, 3)),\n",
    "    BatchNormalization(),\n",
    "    Activation('relu'),\n",
    "    MaxPool2D((2, 2)),\n",
    "    \n",
    "    Conv2D(32, (3, 3)),\n",
    "    BatchNormalization(),\n",
    "    Activation('relu'),\n",
    "    MaxPool2D((2, 2)),\n",
    "    \n",
    "    Flatten(),\n",
    "    Dropout(0.6),\n",
    "    Dense(128, activation = 'relu'),\n",
    "    \n",
    "    Dense(4, activation = 'softmax')\n",
    "])"
   ]
  },
  {
   "cell_type": "code",
   "execution_count": 140,
   "id": "7af22a6e-611e-4ec9-8621-d3b3582ccfcd",
   "metadata": {
    "scrolled": true,
    "tags": []
   },
   "outputs": [
    {
     "name": "stdout",
     "output_type": "stream",
     "text": [
      "Model: \"sequential_17\"\n",
      "_________________________________________________________________\n",
      "Layer (type)                 Output Shape              Param #   \n",
      "=================================================================\n",
      "conv2d_60 (Conv2D)           (None, 126, 126, 32)      896       \n",
      "_________________________________________________________________\n",
      "batch_normalization_60 (Batc (None, 126, 126, 32)      128       \n",
      "_________________________________________________________________\n",
      "activation_60 (Activation)   (None, 126, 126, 32)      0         \n",
      "_________________________________________________________________\n",
      "max_pooling2d_60 (MaxPooling (None, 63, 63, 32)        0         \n",
      "_________________________________________________________________\n",
      "conv2d_61 (Conv2D)           (None, 61, 61, 64)        18496     \n",
      "_________________________________________________________________\n",
      "batch_normalization_61 (Batc (None, 61, 61, 64)        256       \n",
      "_________________________________________________________________\n",
      "activation_61 (Activation)   (None, 61, 61, 64)        0         \n",
      "_________________________________________________________________\n",
      "max_pooling2d_61 (MaxPooling (None, 30, 30, 64)        0         \n",
      "_________________________________________________________________\n",
      "conv2d_62 (Conv2D)           (None, 28, 28, 128)       73856     \n",
      "_________________________________________________________________\n",
      "batch_normalization_62 (Batc (None, 28, 28, 128)       512       \n",
      "_________________________________________________________________\n",
      "activation_62 (Activation)   (None, 28, 28, 128)       0         \n",
      "_________________________________________________________________\n",
      "max_pooling2d_62 (MaxPooling (None, 14, 14, 128)       0         \n",
      "_________________________________________________________________\n",
      "conv2d_63 (Conv2D)           (None, 12, 12, 256)       295168    \n",
      "_________________________________________________________________\n",
      "batch_normalization_63 (Batc (None, 12, 12, 256)       1024      \n",
      "_________________________________________________________________\n",
      "activation_63 (Activation)   (None, 12, 12, 256)       0         \n",
      "_________________________________________________________________\n",
      "max_pooling2d_63 (MaxPooling (None, 6, 6, 256)         0         \n",
      "_________________________________________________________________\n",
      "conv2d_64 (Conv2D)           (None, 4, 4, 32)          73760     \n",
      "_________________________________________________________________\n",
      "batch_normalization_64 (Batc (None, 4, 4, 32)          128       \n",
      "_________________________________________________________________\n",
      "activation_64 (Activation)   (None, 4, 4, 32)          0         \n",
      "_________________________________________________________________\n",
      "max_pooling2d_64 (MaxPooling (None, 2, 2, 32)          0         \n",
      "_________________________________________________________________\n",
      "flatten_17 (Flatten)         (None, 128)               0         \n",
      "_________________________________________________________________\n",
      "dropout_17 (Dropout)         (None, 128)               0         \n",
      "_________________________________________________________________\n",
      "dense_34 (Dense)             (None, 128)               16512     \n",
      "_________________________________________________________________\n",
      "dense_35 (Dense)             (None, 4)                 516       \n",
      "=================================================================\n",
      "Total params: 481,252\n",
      "Trainable params: 480,228\n",
      "Non-trainable params: 1,024\n",
      "_________________________________________________________________\n"
     ]
    }
   ],
   "source": [
    "model.summary()"
   ]
  },
  {
   "cell_type": "code",
   "execution_count": 141,
   "id": "09e41951-bf1f-4787-9a9c-a075d956052c",
   "metadata": {
    "tags": []
   },
   "outputs": [],
   "source": [
    "model.compile(loss = 'categorical_crossentropy',\n",
    "              optimizer = 'adam',\n",
    "              metrics = 'accuracy')"
   ]
  },
  {
   "cell_type": "code",
   "execution_count": 142,
   "id": "7c221b26-d682-4353-b177-ef6f9cb3a0ae",
   "metadata": {
    "tags": []
   },
   "outputs": [],
   "source": [
    "cb = ModelCheckpoint(filepath = 'model.ckpt', save_best_only=True, save_weights_only=True, verbose = 1)"
   ]
  },
  {
   "cell_type": "code",
   "execution_count": 121,
   "id": "1f756de6-ef8d-419f-858b-63b34e2c4a55",
   "metadata": {
    "scrolled": true,
    "tags": []
   },
   "outputs": [
    {
     "data": {
      "text/plain": [
       "<tensorflow.python.training.tracking.util.CheckpointLoadStatus at 0x7efda0226760>"
      ]
     },
     "execution_count": 121,
     "metadata": {},
     "output_type": "execute_result"
    }
   ],
   "source": [
    "model.load_weights('model2.ckpt')"
   ]
  },
  {
   "cell_type": "code",
   "execution_count": 122,
   "id": "55cc204e-4f51-412f-8472-192a88ddd647",
   "metadata": {
    "tags": []
   },
   "outputs": [
    {
     "name": "stdout",
     "output_type": "stream",
     "text": [
      "6/6 [==============================] - 0s 9ms/step - loss: 0.3534 - accuracy: 0.8704\n"
     ]
    },
    {
     "data": {
      "text/plain": [
       "[0.3534114956855774, 0.8703703880310059]"
      ]
     },
     "execution_count": 122,
     "metadata": {},
     "output_type": "execute_result"
    }
   ],
   "source": [
    "model.evaluate(x_cv, y_cv)"
   ]
  },
  {
   "cell_type": "code",
   "execution_count": 124,
   "id": "23b55c38-675d-492a-a801-1dd44cf99d49",
   "metadata": {
    "tags": []
   },
   "outputs": [
    {
     "name": "stdout",
     "output_type": "stream",
     "text": [
      "92/92 [==============================] - 1s 9ms/step - loss: 0.2228 - accuracy: 0.9023\n"
     ]
    },
    {
     "data": {
      "text/plain": [
       "[0.22284281253814697, 0.9022634029388428]"
      ]
     },
     "execution_count": 124,
     "metadata": {},
     "output_type": "execute_result"
    }
   ],
   "source": [
    "model.evaluate(x_train, y_train)"
   ]
  },
  {
   "cell_type": "code",
   "execution_count": 143,
   "id": "87da19e6-36c3-4662-b73d-96cd3a54c2ef",
   "metadata": {
    "scrolled": true,
    "tags": []
   },
   "outputs": [
    {
     "name": "stdout",
     "output_type": "stream",
     "text": [
      "Epoch 1/100\n",
      "92/92 [==============================] - 3s 26ms/step - loss: 1.2881 - accuracy: 0.4050 - val_loss: 1.3116 - val_accuracy: 0.3272\n",
      "\n",
      "Epoch 00001: val_loss improved from inf to 1.31156, saving model to model.ckpt\n",
      "Epoch 2/100\n",
      "92/92 [==============================] - 2s 23ms/step - loss: 1.1331 - accuracy: 0.4798 - val_loss: 1.5951 - val_accuracy: 0.3333\n",
      "\n",
      "Epoch 00002: val_loss did not improve from 1.31156\n",
      "Epoch 3/100\n",
      "92/92 [==============================] - 2s 23ms/step - loss: 1.0758 - accuracy: 0.5106 - val_loss: 2.4466 - val_accuracy: 0.2716\n",
      "\n",
      "Epoch 00003: val_loss did not improve from 1.31156\n",
      "Epoch 4/100\n",
      "92/92 [==============================] - 2s 23ms/step - loss: 1.0478 - accuracy: 0.5285 - val_loss: 1.9087 - val_accuracy: 0.2778\n",
      "\n",
      "Epoch 00004: val_loss did not improve from 1.31156\n",
      "Epoch 5/100\n",
      "92/92 [==============================] - 2s 23ms/step - loss: 1.0063 - accuracy: 0.5436 - val_loss: 1.4878 - val_accuracy: 0.3827\n",
      "\n",
      "Epoch 00005: val_loss did not improve from 1.31156\n",
      "Epoch 6/100\n",
      "92/92 [==============================] - 2s 23ms/step - loss: 1.0110 - accuracy: 0.5405 - val_loss: 1.3220 - val_accuracy: 0.4198\n",
      "\n",
      "Epoch 00006: val_loss did not improve from 1.31156\n",
      "Epoch 7/100\n",
      "92/92 [==============================] - 2s 23ms/step - loss: 1.0246 - accuracy: 0.5357 - val_loss: 1.0514 - val_accuracy: 0.5679\n",
      "\n",
      "Epoch 00007: val_loss improved from 1.31156 to 1.05137, saving model to model.ckpt\n",
      "Epoch 8/100\n",
      "92/92 [==============================] - 2s 23ms/step - loss: 0.9708 - accuracy: 0.5703 - val_loss: 0.9400 - val_accuracy: 0.6049\n",
      "\n",
      "Epoch 00008: val_loss improved from 1.05137 to 0.93998, saving model to model.ckpt\n",
      "Epoch 9/100\n",
      "92/92 [==============================] - 2s 23ms/step - loss: 0.9622 - accuracy: 0.5655 - val_loss: 0.8985 - val_accuracy: 0.5802\n",
      "\n",
      "Epoch 00009: val_loss improved from 0.93998 to 0.89848, saving model to model.ckpt\n",
      "Epoch 10/100\n",
      "92/92 [==============================] - 2s 23ms/step - loss: 0.9643 - accuracy: 0.5665 - val_loss: 0.8965 - val_accuracy: 0.5802\n",
      "\n",
      "Epoch 00010: val_loss improved from 0.89848 to 0.89647, saving model to model.ckpt\n",
      "Epoch 11/100\n",
      "92/92 [==============================] - 2s 23ms/step - loss: 0.9354 - accuracy: 0.5754 - val_loss: 0.9338 - val_accuracy: 0.6111\n",
      "\n",
      "Epoch 00011: val_loss did not improve from 0.89647\n",
      "Epoch 12/100\n",
      "92/92 [==============================] - 2s 23ms/step - loss: 0.9173 - accuracy: 0.5816 - val_loss: 0.8222 - val_accuracy: 0.6049\n",
      "\n",
      "Epoch 00012: val_loss improved from 0.89647 to 0.82224, saving model to model.ckpt\n",
      "Epoch 13/100\n",
      "92/92 [==============================] - 2s 23ms/step - loss: 0.9423 - accuracy: 0.5744 - val_loss: 0.8643 - val_accuracy: 0.5617\n",
      "\n",
      "Epoch 00013: val_loss did not improve from 0.82224\n",
      "Epoch 14/100\n",
      "92/92 [==============================] - 2s 23ms/step - loss: 0.9182 - accuracy: 0.5806 - val_loss: 1.1644 - val_accuracy: 0.3704\n",
      "\n",
      "Epoch 00014: val_loss did not improve from 0.82224\n",
      "Epoch 15/100\n",
      "92/92 [==============================] - 2s 23ms/step - loss: 0.9034 - accuracy: 0.5926 - val_loss: 0.8134 - val_accuracy: 0.6481\n",
      "\n",
      "Epoch 00015: val_loss improved from 0.82224 to 0.81343, saving model to model.ckpt\n",
      "Epoch 16/100\n",
      "92/92 [==============================] - 2s 23ms/step - loss: 0.8908 - accuracy: 0.5977 - val_loss: 0.7794 - val_accuracy: 0.5988\n",
      "\n",
      "Epoch 00016: val_loss improved from 0.81343 to 0.77939, saving model to model.ckpt\n",
      "Epoch 17/100\n",
      "92/92 [==============================] - 2s 23ms/step - loss: 0.8850 - accuracy: 0.5926 - val_loss: 0.8386 - val_accuracy: 0.5864\n",
      "\n",
      "Epoch 00017: val_loss did not improve from 0.77939\n",
      "Epoch 18/100\n",
      "92/92 [==============================] - 2s 23ms/step - loss: 0.8859 - accuracy: 0.5998 - val_loss: 0.9116 - val_accuracy: 0.5679\n",
      "\n",
      "Epoch 00018: val_loss did not improve from 0.77939\n",
      "Epoch 19/100\n",
      "92/92 [==============================] - 2s 23ms/step - loss: 0.8900 - accuracy: 0.5885 - val_loss: 0.7651 - val_accuracy: 0.6605\n",
      "\n",
      "Epoch 00019: val_loss improved from 0.77939 to 0.76511, saving model to model.ckpt\n",
      "Epoch 20/100\n",
      "92/92 [==============================] - 2s 23ms/step - loss: 0.8596 - accuracy: 0.6080 - val_loss: 1.0165 - val_accuracy: 0.4568\n",
      "\n",
      "Epoch 00020: val_loss did not improve from 0.76511\n",
      "Epoch 21/100\n",
      "92/92 [==============================] - 2s 23ms/step - loss: 0.8747 - accuracy: 0.6036 - val_loss: 0.8233 - val_accuracy: 0.5926\n",
      "\n",
      "Epoch 00021: val_loss did not improve from 0.76511\n",
      "Epoch 22/100\n",
      "92/92 [==============================] - 2s 23ms/step - loss: 0.8516 - accuracy: 0.6022 - val_loss: 0.9274 - val_accuracy: 0.5864\n",
      "\n",
      "Epoch 00022: val_loss did not improve from 0.76511\n",
      "Epoch 23/100\n",
      "92/92 [==============================] - 2s 23ms/step - loss: 0.8488 - accuracy: 0.6152 - val_loss: 0.7470 - val_accuracy: 0.6975\n",
      "\n",
      "Epoch 00023: val_loss improved from 0.76511 to 0.74701, saving model to model.ckpt\n",
      "Epoch 24/100\n",
      "92/92 [==============================] - 2s 23ms/step - loss: 0.8257 - accuracy: 0.6211 - val_loss: 0.9080 - val_accuracy: 0.5802\n",
      "\n",
      "Epoch 00024: val_loss did not improve from 0.74701\n",
      "Epoch 25/100\n",
      "92/92 [==============================] - 2s 23ms/step - loss: 0.8521 - accuracy: 0.6091 - val_loss: 0.7710 - val_accuracy: 0.6481\n",
      "\n",
      "Epoch 00025: val_loss did not improve from 0.74701\n",
      "Epoch 26/100\n",
      "92/92 [==============================] - 2s 23ms/step - loss: 0.8000 - accuracy: 0.6358 - val_loss: 0.7502 - val_accuracy: 0.6975\n",
      "\n",
      "Epoch 00026: val_loss did not improve from 0.74701\n",
      "Epoch 27/100\n",
      "92/92 [==============================] - 2s 23ms/step - loss: 0.7998 - accuracy: 0.6416 - val_loss: 0.7039 - val_accuracy: 0.6914\n",
      "\n",
      "Epoch 00027: val_loss improved from 0.74701 to 0.70388, saving model to model.ckpt\n",
      "Epoch 28/100\n",
      "92/92 [==============================] - 2s 23ms/step - loss: 0.7848 - accuracy: 0.6440 - val_loss: 0.7029 - val_accuracy: 0.6975\n",
      "\n",
      "Epoch 00028: val_loss improved from 0.70388 to 0.70288, saving model to model.ckpt\n",
      "Epoch 29/100\n",
      "92/92 [==============================] - 2s 23ms/step - loss: 0.7941 - accuracy: 0.6355 - val_loss: 0.6964 - val_accuracy: 0.6914\n",
      "\n",
      "Epoch 00029: val_loss improved from 0.70288 to 0.69637, saving model to model.ckpt\n",
      "Epoch 30/100\n",
      "92/92 [==============================] - 2s 23ms/step - loss: 0.7940 - accuracy: 0.6447 - val_loss: 0.6780 - val_accuracy: 0.7222\n",
      "\n",
      "Epoch 00030: val_loss improved from 0.69637 to 0.67796, saving model to model.ckpt\n",
      "Epoch 31/100\n",
      "92/92 [==============================] - 2s 23ms/step - loss: 0.7435 - accuracy: 0.6725 - val_loss: 0.6350 - val_accuracy: 0.6975\n",
      "\n",
      "Epoch 00031: val_loss improved from 0.67796 to 0.63504, saving model to model.ckpt\n",
      "Epoch 32/100\n",
      "92/92 [==============================] - 2s 23ms/step - loss: 0.7707 - accuracy: 0.6670 - val_loss: 1.6520 - val_accuracy: 0.4198\n",
      "\n",
      "Epoch 00032: val_loss did not improve from 0.63504\n",
      "Epoch 33/100\n",
      "92/92 [==============================] - 2s 23ms/step - loss: 0.7627 - accuracy: 0.6632 - val_loss: 0.8257 - val_accuracy: 0.6420\n",
      "\n",
      "Epoch 00033: val_loss did not improve from 0.63504\n",
      "Epoch 34/100\n",
      "92/92 [==============================] - 2s 23ms/step - loss: 0.7448 - accuracy: 0.6766 - val_loss: 0.8095 - val_accuracy: 0.5679\n",
      "\n",
      "Epoch 00034: val_loss did not improve from 0.63504\n",
      "Epoch 35/100\n",
      "92/92 [==============================] - 2s 23ms/step - loss: 0.7342 - accuracy: 0.6804 - val_loss: 0.7283 - val_accuracy: 0.6975\n",
      "\n",
      "Epoch 00035: val_loss did not improve from 0.63504\n",
      "Epoch 36/100\n",
      "92/92 [==============================] - 2s 23ms/step - loss: 0.7040 - accuracy: 0.6958 - val_loss: 0.7357 - val_accuracy: 0.7160\n",
      "\n",
      "Epoch 00036: val_loss did not improve from 0.63504\n",
      "Epoch 37/100\n",
      "92/92 [==============================] - 2s 23ms/step - loss: 0.7091 - accuracy: 0.6924 - val_loss: 0.8786 - val_accuracy: 0.5679\n",
      "\n",
      "Epoch 00037: val_loss did not improve from 0.63504\n",
      "Epoch 38/100\n",
      "92/92 [==============================] - 2s 23ms/step - loss: 0.7075 - accuracy: 0.6910 - val_loss: 0.6987 - val_accuracy: 0.6975\n",
      "\n",
      "Epoch 00038: val_loss did not improve from 0.63504\n",
      "Epoch 39/100\n",
      "92/92 [==============================] - 2s 23ms/step - loss: 0.6961 - accuracy: 0.6955 - val_loss: 0.6413 - val_accuracy: 0.7469\n",
      "\n",
      "Epoch 00039: val_loss did not improve from 0.63504\n",
      "Epoch 40/100\n",
      "92/92 [==============================] - 2s 23ms/step - loss: 0.6666 - accuracy: 0.7099 - val_loss: 0.6705 - val_accuracy: 0.6728\n",
      "\n",
      "Epoch 00040: val_loss did not improve from 0.63504\n",
      "Epoch 41/100\n",
      "92/92 [==============================] - 2s 23ms/step - loss: 0.6594 - accuracy: 0.7130 - val_loss: 0.7405 - val_accuracy: 0.7222\n",
      "\n",
      "Epoch 00041: val_loss did not improve from 0.63504\n",
      "Epoch 42/100\n",
      "92/92 [==============================] - 2s 23ms/step - loss: 0.6626 - accuracy: 0.7215 - val_loss: 0.8284 - val_accuracy: 0.5617\n",
      "\n",
      "Epoch 00042: val_loss did not improve from 0.63504\n",
      "Epoch 43/100\n",
      "92/92 [==============================] - 2s 23ms/step - loss: 0.6594 - accuracy: 0.7236 - val_loss: 0.6273 - val_accuracy: 0.7531\n",
      "\n",
      "Epoch 00043: val_loss improved from 0.63504 to 0.62730, saving model to model.ckpt\n",
      "Epoch 44/100\n",
      "92/92 [==============================] - 2s 23ms/step - loss: 0.6495 - accuracy: 0.7130 - val_loss: 0.6336 - val_accuracy: 0.7222\n",
      "\n",
      "Epoch 00044: val_loss did not improve from 0.62730\n",
      "Epoch 45/100\n",
      "92/92 [==============================] - 2s 23ms/step - loss: 0.6082 - accuracy: 0.7500 - val_loss: 0.6775 - val_accuracy: 0.6852\n",
      "\n",
      "Epoch 00045: val_loss did not improve from 0.62730\n",
      "Epoch 46/100\n",
      "92/92 [==============================] - 2s 23ms/step - loss: 0.6198 - accuracy: 0.7315 - val_loss: 0.6507 - val_accuracy: 0.7222\n",
      "\n",
      "Epoch 00046: val_loss did not improve from 0.62730\n",
      "Epoch 47/100\n",
      "92/92 [==============================] - 2s 23ms/step - loss: 0.6000 - accuracy: 0.7401 - val_loss: 0.7210 - val_accuracy: 0.6605\n",
      "\n",
      "Epoch 00047: val_loss did not improve from 0.62730\n",
      "Epoch 48/100\n",
      "92/92 [==============================] - 2s 23ms/step - loss: 0.6191 - accuracy: 0.7332 - val_loss: 0.8835 - val_accuracy: 0.5494\n",
      "\n",
      "Epoch 00048: val_loss did not improve from 0.62730\n",
      "Epoch 49/100\n",
      "92/92 [==============================] - 2s 23ms/step - loss: 0.6157 - accuracy: 0.7353 - val_loss: 0.6011 - val_accuracy: 0.7840\n",
      "\n",
      "Epoch 00049: val_loss improved from 0.62730 to 0.60112, saving model to model.ckpt\n",
      "Epoch 50/100\n",
      "92/92 [==============================] - 2s 23ms/step - loss: 0.5901 - accuracy: 0.7531 - val_loss: 1.1428 - val_accuracy: 0.5556\n",
      "\n",
      "Epoch 00050: val_loss did not improve from 0.60112\n",
      "Epoch 51/100\n",
      "92/92 [==============================] - 2s 23ms/step - loss: 0.5862 - accuracy: 0.7531 - val_loss: 0.7361 - val_accuracy: 0.6049\n",
      "\n",
      "Epoch 00051: val_loss did not improve from 0.60112\n",
      "Epoch 52/100\n",
      "92/92 [==============================] - 2s 23ms/step - loss: 0.5790 - accuracy: 0.7476 - val_loss: 0.5336 - val_accuracy: 0.7901\n",
      "\n",
      "Epoch 00052: val_loss improved from 0.60112 to 0.53358, saving model to model.ckpt\n",
      "Epoch 53/100\n",
      "92/92 [==============================] - 2s 23ms/step - loss: 0.5887 - accuracy: 0.7510 - val_loss: 0.5872 - val_accuracy: 0.7531\n",
      "\n",
      "Epoch 00053: val_loss did not improve from 0.53358\n",
      "Epoch 54/100\n",
      "92/92 [==============================] - 2s 23ms/step - loss: 0.5564 - accuracy: 0.7641 - val_loss: 0.5355 - val_accuracy: 0.7840\n",
      "\n",
      "Epoch 00054: val_loss did not improve from 0.53358\n",
      "Epoch 55/100\n",
      "92/92 [==============================] - 2s 23ms/step - loss: 0.5759 - accuracy: 0.7527 - val_loss: 0.4963 - val_accuracy: 0.8210\n",
      "\n",
      "Epoch 00055: val_loss improved from 0.53358 to 0.49631, saving model to model.ckpt\n",
      "Epoch 56/100\n",
      "92/92 [==============================] - 2s 23ms/step - loss: 0.5460 - accuracy: 0.7671 - val_loss: 0.5104 - val_accuracy: 0.8210\n",
      "\n",
      "Epoch 00056: val_loss did not improve from 0.49631\n",
      "Epoch 57/100\n",
      "92/92 [==============================] - 2s 23ms/step - loss: 0.5259 - accuracy: 0.7771 - val_loss: 0.5687 - val_accuracy: 0.8086\n",
      "\n",
      "Epoch 00057: val_loss did not improve from 0.49631\n",
      "Epoch 58/100\n",
      "92/92 [==============================] - 2s 23ms/step - loss: 0.5073 - accuracy: 0.7867 - val_loss: 0.4445 - val_accuracy: 0.8148\n",
      "\n",
      "Epoch 00058: val_loss improved from 0.49631 to 0.44450, saving model to model.ckpt\n",
      "Epoch 59/100\n",
      "92/92 [==============================] - 2s 23ms/step - loss: 0.5856 - accuracy: 0.7548 - val_loss: 0.8807 - val_accuracy: 0.6543\n",
      "\n",
      "Epoch 00059: val_loss did not improve from 0.44450\n",
      "Epoch 60/100\n",
      "92/92 [==============================] - 2s 23ms/step - loss: 0.5638 - accuracy: 0.7678 - val_loss: 0.5800 - val_accuracy: 0.7593\n",
      "\n",
      "Epoch 00060: val_loss did not improve from 0.44450\n",
      "Epoch 61/100\n",
      "92/92 [==============================] - 2s 23ms/step - loss: 0.5209 - accuracy: 0.7737 - val_loss: 0.4975 - val_accuracy: 0.8025\n",
      "\n",
      "Epoch 00061: val_loss did not improve from 0.44450\n",
      "Epoch 62/100\n",
      "92/92 [==============================] - 2s 23ms/step - loss: 0.4887 - accuracy: 0.7956 - val_loss: 0.5345 - val_accuracy: 0.7840\n",
      "\n",
      "Epoch 00062: val_loss did not improve from 0.44450\n",
      "Epoch 63/100\n",
      "92/92 [==============================] - 2s 23ms/step - loss: 0.4878 - accuracy: 0.7980 - val_loss: 0.5772 - val_accuracy: 0.7778\n",
      "\n",
      "Epoch 00063: val_loss did not improve from 0.44450\n",
      "Epoch 64/100\n",
      "92/92 [==============================] - 2s 23ms/step - loss: 0.4823 - accuracy: 0.7922 - val_loss: 0.8842 - val_accuracy: 0.6975\n",
      "\n",
      "Epoch 00064: val_loss did not improve from 0.44450\n",
      "Epoch 65/100\n",
      "92/92 [==============================] - 2s 23ms/step - loss: 0.4745 - accuracy: 0.7990 - val_loss: 0.5169 - val_accuracy: 0.8025\n",
      "\n",
      "Epoch 00065: val_loss did not improve from 0.44450\n",
      "Epoch 66/100\n",
      "92/92 [==============================] - 2s 23ms/step - loss: 0.4796 - accuracy: 0.8004 - val_loss: 0.9083 - val_accuracy: 0.6605\n",
      "\n",
      "Epoch 00066: val_loss did not improve from 0.44450\n",
      "Epoch 67/100\n",
      "92/92 [==============================] - 2s 23ms/step - loss: 0.4565 - accuracy: 0.8066 - val_loss: 0.4523 - val_accuracy: 0.8086\n",
      "\n",
      "Epoch 00067: val_loss did not improve from 0.44450\n",
      "Epoch 68/100\n",
      "92/92 [==============================] - 2s 23ms/step - loss: 0.4623 - accuracy: 0.8021 - val_loss: 1.8004 - val_accuracy: 0.3827\n",
      "\n",
      "Epoch 00068: val_loss did not improve from 0.44450\n",
      "Epoch 69/100\n",
      "92/92 [==============================] - 2s 23ms/step - loss: 0.4546 - accuracy: 0.8124 - val_loss: 0.8069 - val_accuracy: 0.6049\n",
      "\n",
      "Epoch 00069: val_loss did not improve from 0.44450\n",
      "Epoch 70/100\n",
      "92/92 [==============================] - 2s 23ms/step - loss: 0.4517 - accuracy: 0.8093 - val_loss: 0.6940 - val_accuracy: 0.7099\n",
      "\n",
      "Epoch 00070: val_loss did not improve from 0.44450\n",
      "Epoch 71/100\n",
      "92/92 [==============================] - 2s 23ms/step - loss: 0.4471 - accuracy: 0.8162 - val_loss: 0.6992 - val_accuracy: 0.7037\n",
      "\n",
      "Epoch 00071: val_loss did not improve from 0.44450\n",
      "Epoch 72/100\n",
      "92/92 [==============================] - 2s 24ms/step - loss: 0.4562 - accuracy: 0.8090 - val_loss: 0.6289 - val_accuracy: 0.7284\n",
      "\n",
      "Epoch 00072: val_loss did not improve from 0.44450\n",
      "Epoch 73/100\n",
      "92/92 [==============================] - 2s 23ms/step - loss: 0.4382 - accuracy: 0.8165 - val_loss: 0.5584 - val_accuracy: 0.7963\n",
      "\n",
      "Epoch 00073: val_loss did not improve from 0.44450\n",
      "Epoch 74/100\n",
      "92/92 [==============================] - 2s 23ms/step - loss: 0.4353 - accuracy: 0.8131 - val_loss: 0.4901 - val_accuracy: 0.8148\n",
      "\n",
      "Epoch 00074: val_loss did not improve from 0.44450\n",
      "Epoch 75/100\n",
      "92/92 [==============================] - 2s 23ms/step - loss: 0.4239 - accuracy: 0.8179 - val_loss: 0.6661 - val_accuracy: 0.7346\n",
      "\n",
      "Epoch 00075: val_loss did not improve from 0.44450\n",
      "Epoch 76/100\n",
      "92/92 [==============================] - 2s 23ms/step - loss: 0.4882 - accuracy: 0.8021 - val_loss: 0.7096 - val_accuracy: 0.6914\n",
      "\n",
      "Epoch 00076: val_loss did not improve from 0.44450\n",
      "Epoch 77/100\n",
      "92/92 [==============================] - 2s 23ms/step - loss: 0.4404 - accuracy: 0.8196 - val_loss: 0.9823 - val_accuracy: 0.5926\n",
      "\n",
      "Epoch 00077: val_loss did not improve from 0.44450\n",
      "Epoch 78/100\n",
      "92/92 [==============================] - 2s 23ms/step - loss: 0.4590 - accuracy: 0.8121 - val_loss: 0.6219 - val_accuracy: 0.7407\n",
      "\n",
      "Epoch 00078: val_loss did not improve from 0.44450\n",
      "Epoch 79/100\n",
      "92/92 [==============================] - 2s 24ms/step - loss: 0.4116 - accuracy: 0.8278 - val_loss: 0.7491 - val_accuracy: 0.6790\n",
      "\n",
      "Epoch 00079: val_loss did not improve from 0.44450\n",
      "Epoch 80/100\n",
      "92/92 [==============================] - 2s 23ms/step - loss: 0.4066 - accuracy: 0.8244 - val_loss: 0.5628 - val_accuracy: 0.7654\n",
      "\n",
      "Epoch 00080: val_loss did not improve from 0.44450\n",
      "Epoch 81/100\n",
      "92/92 [==============================] - 2s 23ms/step - loss: 0.4145 - accuracy: 0.8265 - val_loss: 0.8289 - val_accuracy: 0.6667\n",
      "\n",
      "Epoch 00081: val_loss did not improve from 0.44450\n",
      "Epoch 82/100\n",
      "92/92 [==============================] - 2s 24ms/step - loss: 0.3762 - accuracy: 0.8416 - val_loss: 1.1164 - val_accuracy: 0.6296\n",
      "\n",
      "Epoch 00082: val_loss did not improve from 0.44450\n",
      "Epoch 83/100\n",
      "92/92 [==============================] - 2s 23ms/step - loss: 0.3960 - accuracy: 0.8333 - val_loss: 1.0919 - val_accuracy: 0.6049\n",
      "\n",
      "Epoch 00083: val_loss did not improve from 0.44450\n",
      "Epoch 84/100\n",
      "92/92 [==============================] - 2s 23ms/step - loss: 0.4115 - accuracy: 0.8234 - val_loss: 1.7326 - val_accuracy: 0.5494\n",
      "\n",
      "Epoch 00084: val_loss did not improve from 0.44450\n",
      "Epoch 85/100\n",
      "92/92 [==============================] - 2s 23ms/step - loss: 0.4026 - accuracy: 0.8278 - val_loss: 1.6809 - val_accuracy: 0.5617\n",
      "\n",
      "Epoch 00085: val_loss did not improve from 0.44450\n",
      "Epoch 86/100\n",
      "92/92 [==============================] - 2s 24ms/step - loss: 0.4098 - accuracy: 0.8241 - val_loss: 1.3024 - val_accuracy: 0.6049\n",
      "\n",
      "Epoch 00086: val_loss did not improve from 0.44450\n",
      "Epoch 87/100\n",
      "92/92 [==============================] - 2s 23ms/step - loss: 0.4021 - accuracy: 0.8272 - val_loss: 0.8991 - val_accuracy: 0.6790\n",
      "\n",
      "Epoch 00087: val_loss did not improve from 0.44450\n",
      "Epoch 88/100\n",
      "92/92 [==============================] - 2s 24ms/step - loss: 0.3955 - accuracy: 0.8357 - val_loss: 0.9142 - val_accuracy: 0.5802\n",
      "\n",
      "Epoch 00088: val_loss did not improve from 0.44450\n",
      "Epoch 89/100\n",
      "92/92 [==============================] - 2s 23ms/step - loss: 0.3786 - accuracy: 0.8429 - val_loss: 0.6169 - val_accuracy: 0.7654\n",
      "\n",
      "Epoch 00089: val_loss did not improve from 0.44450\n",
      "Epoch 90/100\n",
      "92/92 [==============================] - 2s 23ms/step - loss: 0.5065 - accuracy: 0.7949 - val_loss: 0.6164 - val_accuracy: 0.7531\n",
      "\n",
      "Epoch 00090: val_loss did not improve from 0.44450\n",
      "Epoch 91/100\n",
      "92/92 [==============================] - 2s 23ms/step - loss: 0.3975 - accuracy: 0.8254 - val_loss: 0.5593 - val_accuracy: 0.8086\n",
      "\n",
      "Epoch 00091: val_loss did not improve from 0.44450\n",
      "Epoch 92/100\n",
      " 4/92 [>.............................] - ETA: 2s - loss: 0.3949 - accuracy: 0.8672"
     ]
    },
    {
     "ename": "KeyboardInterrupt",
     "evalue": "",
     "output_type": "error",
     "traceback": [
      "\u001b[0;31m---------------------------------------------------------------------------\u001b[0m",
      "\u001b[0;31mKeyboardInterrupt\u001b[0m                         Traceback (most recent call last)",
      "\u001b[0;32m<ipython-input-143-299cb9f87d85>\u001b[0m in \u001b[0;36m<module>\u001b[0;34m\u001b[0m\n\u001b[0;32m----> 1\u001b[0;31m \u001b[0mmodel\u001b[0m\u001b[0;34m.\u001b[0m\u001b[0mfit\u001b[0m\u001b[0;34m(\u001b[0m\u001b[0mx_train\u001b[0m\u001b[0;34m,\u001b[0m \u001b[0my_train\u001b[0m\u001b[0;34m,\u001b[0m \u001b[0mepochs\u001b[0m \u001b[0;34m=\u001b[0m \u001b[0;36m100\u001b[0m\u001b[0;34m,\u001b[0m \u001b[0mcallbacks\u001b[0m\u001b[0;34m=\u001b[0m\u001b[0;34m[\u001b[0m\u001b[0mcb\u001b[0m\u001b[0;34m]\u001b[0m\u001b[0;34m,\u001b[0m \u001b[0mvalidation_data\u001b[0m\u001b[0;34m=\u001b[0m\u001b[0;34m(\u001b[0m\u001b[0mx_cv\u001b[0m\u001b[0;34m,\u001b[0m \u001b[0my_cv\u001b[0m\u001b[0;34m)\u001b[0m\u001b[0;34m)\u001b[0m\u001b[0;34m\u001b[0m\u001b[0;34m\u001b[0m\u001b[0m\n\u001b[0m",
      "\u001b[0;32m/usr/local/lib/python3.8/site-packages/keras/engine/training.py\u001b[0m in \u001b[0;36mfit\u001b[0;34m(self, x, y, batch_size, epochs, verbose, callbacks, validation_split, validation_data, shuffle, class_weight, sample_weight, initial_epoch, steps_per_epoch, validation_steps, validation_batch_size, validation_freq, max_queue_size, workers, use_multiprocessing)\u001b[0m\n\u001b[1;32m   1187\u001b[0m               \u001b[0mlogs\u001b[0m \u001b[0;34m=\u001b[0m \u001b[0mtmp_logs\u001b[0m  \u001b[0;31m# No error, now safe to assign to logs.\u001b[0m\u001b[0;34m\u001b[0m\u001b[0;34m\u001b[0m\u001b[0m\n\u001b[1;32m   1188\u001b[0m               \u001b[0mend_step\u001b[0m \u001b[0;34m=\u001b[0m \u001b[0mstep\u001b[0m \u001b[0;34m+\u001b[0m \u001b[0mdata_handler\u001b[0m\u001b[0;34m.\u001b[0m\u001b[0mstep_increment\u001b[0m\u001b[0;34m\u001b[0m\u001b[0;34m\u001b[0m\u001b[0m\n\u001b[0;32m-> 1189\u001b[0;31m               \u001b[0mcallbacks\u001b[0m\u001b[0;34m.\u001b[0m\u001b[0mon_train_batch_end\u001b[0m\u001b[0;34m(\u001b[0m\u001b[0mend_step\u001b[0m\u001b[0;34m,\u001b[0m \u001b[0mlogs\u001b[0m\u001b[0;34m)\u001b[0m\u001b[0;34m\u001b[0m\u001b[0;34m\u001b[0m\u001b[0m\n\u001b[0m\u001b[1;32m   1190\u001b[0m               \u001b[0;32mif\u001b[0m \u001b[0mself\u001b[0m\u001b[0;34m.\u001b[0m\u001b[0mstop_training\u001b[0m\u001b[0;34m:\u001b[0m\u001b[0;34m\u001b[0m\u001b[0;34m\u001b[0m\u001b[0m\n\u001b[1;32m   1191\u001b[0m                 \u001b[0;32mbreak\u001b[0m\u001b[0;34m\u001b[0m\u001b[0;34m\u001b[0m\u001b[0m\n",
      "\u001b[0;32m/usr/local/lib/python3.8/site-packages/keras/callbacks.py\u001b[0m in \u001b[0;36mon_train_batch_end\u001b[0;34m(self, batch, logs)\u001b[0m\n\u001b[1;32m    433\u001b[0m     \"\"\"\n\u001b[1;32m    434\u001b[0m     \u001b[0;32mif\u001b[0m \u001b[0mself\u001b[0m\u001b[0;34m.\u001b[0m\u001b[0m_should_call_train_batch_hooks\u001b[0m\u001b[0;34m:\u001b[0m\u001b[0;34m\u001b[0m\u001b[0;34m\u001b[0m\u001b[0m\n\u001b[0;32m--> 435\u001b[0;31m       \u001b[0mself\u001b[0m\u001b[0;34m.\u001b[0m\u001b[0m_call_batch_hook\u001b[0m\u001b[0;34m(\u001b[0m\u001b[0mModeKeys\u001b[0m\u001b[0;34m.\u001b[0m\u001b[0mTRAIN\u001b[0m\u001b[0;34m,\u001b[0m \u001b[0;34m'end'\u001b[0m\u001b[0;34m,\u001b[0m \u001b[0mbatch\u001b[0m\u001b[0;34m,\u001b[0m \u001b[0mlogs\u001b[0m\u001b[0;34m=\u001b[0m\u001b[0mlogs\u001b[0m\u001b[0;34m)\u001b[0m\u001b[0;34m\u001b[0m\u001b[0;34m\u001b[0m\u001b[0m\n\u001b[0m\u001b[1;32m    436\u001b[0m \u001b[0;34m\u001b[0m\u001b[0m\n\u001b[1;32m    437\u001b[0m   \u001b[0;32mdef\u001b[0m \u001b[0mon_test_batch_begin\u001b[0m\u001b[0;34m(\u001b[0m\u001b[0mself\u001b[0m\u001b[0;34m,\u001b[0m \u001b[0mbatch\u001b[0m\u001b[0;34m,\u001b[0m \u001b[0mlogs\u001b[0m\u001b[0;34m=\u001b[0m\u001b[0;32mNone\u001b[0m\u001b[0;34m)\u001b[0m\u001b[0;34m:\u001b[0m\u001b[0;34m\u001b[0m\u001b[0;34m\u001b[0m\u001b[0m\n",
      "\u001b[0;32m/usr/local/lib/python3.8/site-packages/keras/callbacks.py\u001b[0m in \u001b[0;36m_call_batch_hook\u001b[0;34m(self, mode, hook, batch, logs)\u001b[0m\n\u001b[1;32m    293\u001b[0m       \u001b[0mself\u001b[0m\u001b[0;34m.\u001b[0m\u001b[0m_call_batch_begin_hook\u001b[0m\u001b[0;34m(\u001b[0m\u001b[0mmode\u001b[0m\u001b[0;34m,\u001b[0m \u001b[0mbatch\u001b[0m\u001b[0;34m,\u001b[0m \u001b[0mlogs\u001b[0m\u001b[0;34m)\u001b[0m\u001b[0;34m\u001b[0m\u001b[0;34m\u001b[0m\u001b[0m\n\u001b[1;32m    294\u001b[0m     \u001b[0;32melif\u001b[0m \u001b[0mhook\u001b[0m \u001b[0;34m==\u001b[0m \u001b[0;34m'end'\u001b[0m\u001b[0;34m:\u001b[0m\u001b[0;34m\u001b[0m\u001b[0;34m\u001b[0m\u001b[0m\n\u001b[0;32m--> 295\u001b[0;31m       \u001b[0mself\u001b[0m\u001b[0;34m.\u001b[0m\u001b[0m_call_batch_end_hook\u001b[0m\u001b[0;34m(\u001b[0m\u001b[0mmode\u001b[0m\u001b[0;34m,\u001b[0m \u001b[0mbatch\u001b[0m\u001b[0;34m,\u001b[0m \u001b[0mlogs\u001b[0m\u001b[0;34m)\u001b[0m\u001b[0;34m\u001b[0m\u001b[0;34m\u001b[0m\u001b[0m\n\u001b[0m\u001b[1;32m    296\u001b[0m     \u001b[0;32melse\u001b[0m\u001b[0;34m:\u001b[0m\u001b[0;34m\u001b[0m\u001b[0;34m\u001b[0m\u001b[0m\n\u001b[1;32m    297\u001b[0m       \u001b[0;32mraise\u001b[0m \u001b[0mValueError\u001b[0m\u001b[0;34m(\u001b[0m\u001b[0;34m'Unrecognized hook: {}'\u001b[0m\u001b[0;34m.\u001b[0m\u001b[0mformat\u001b[0m\u001b[0;34m(\u001b[0m\u001b[0mhook\u001b[0m\u001b[0;34m)\u001b[0m\u001b[0;34m)\u001b[0m\u001b[0;34m\u001b[0m\u001b[0;34m\u001b[0m\u001b[0m\n",
      "\u001b[0;32m/usr/local/lib/python3.8/site-packages/keras/callbacks.py\u001b[0m in \u001b[0;36m_call_batch_end_hook\u001b[0;34m(self, mode, batch, logs)\u001b[0m\n\u001b[1;32m    313\u001b[0m       \u001b[0mself\u001b[0m\u001b[0;34m.\u001b[0m\u001b[0m_batch_times\u001b[0m\u001b[0;34m.\u001b[0m\u001b[0mappend\u001b[0m\u001b[0;34m(\u001b[0m\u001b[0mbatch_time\u001b[0m\u001b[0;34m)\u001b[0m\u001b[0;34m\u001b[0m\u001b[0;34m\u001b[0m\u001b[0m\n\u001b[1;32m    314\u001b[0m \u001b[0;34m\u001b[0m\u001b[0m\n\u001b[0;32m--> 315\u001b[0;31m     \u001b[0mself\u001b[0m\u001b[0;34m.\u001b[0m\u001b[0m_call_batch_hook_helper\u001b[0m\u001b[0;34m(\u001b[0m\u001b[0mhook_name\u001b[0m\u001b[0;34m,\u001b[0m \u001b[0mbatch\u001b[0m\u001b[0;34m,\u001b[0m \u001b[0mlogs\u001b[0m\u001b[0;34m)\u001b[0m\u001b[0;34m\u001b[0m\u001b[0;34m\u001b[0m\u001b[0m\n\u001b[0m\u001b[1;32m    316\u001b[0m \u001b[0;34m\u001b[0m\u001b[0m\n\u001b[1;32m    317\u001b[0m     \u001b[0;32mif\u001b[0m \u001b[0mlen\u001b[0m\u001b[0;34m(\u001b[0m\u001b[0mself\u001b[0m\u001b[0;34m.\u001b[0m\u001b[0m_batch_times\u001b[0m\u001b[0;34m)\u001b[0m \u001b[0;34m>=\u001b[0m \u001b[0mself\u001b[0m\u001b[0;34m.\u001b[0m\u001b[0m_num_batches_for_timing_check\u001b[0m\u001b[0;34m:\u001b[0m\u001b[0;34m\u001b[0m\u001b[0;34m\u001b[0m\u001b[0m\n",
      "\u001b[0;32m/usr/local/lib/python3.8/site-packages/keras/callbacks.py\u001b[0m in \u001b[0;36m_call_batch_hook_helper\u001b[0;34m(self, hook_name, batch, logs)\u001b[0m\n\u001b[1;32m    351\u001b[0m     \u001b[0;32mfor\u001b[0m \u001b[0mcallback\u001b[0m \u001b[0;32min\u001b[0m \u001b[0mself\u001b[0m\u001b[0;34m.\u001b[0m\u001b[0mcallbacks\u001b[0m\u001b[0;34m:\u001b[0m\u001b[0;34m\u001b[0m\u001b[0;34m\u001b[0m\u001b[0m\n\u001b[1;32m    352\u001b[0m       \u001b[0mhook\u001b[0m \u001b[0;34m=\u001b[0m \u001b[0mgetattr\u001b[0m\u001b[0;34m(\u001b[0m\u001b[0mcallback\u001b[0m\u001b[0;34m,\u001b[0m \u001b[0mhook_name\u001b[0m\u001b[0;34m)\u001b[0m\u001b[0;34m\u001b[0m\u001b[0;34m\u001b[0m\u001b[0m\n\u001b[0;32m--> 353\u001b[0;31m       \u001b[0mhook\u001b[0m\u001b[0;34m(\u001b[0m\u001b[0mbatch\u001b[0m\u001b[0;34m,\u001b[0m \u001b[0mlogs\u001b[0m\u001b[0;34m)\u001b[0m\u001b[0;34m\u001b[0m\u001b[0;34m\u001b[0m\u001b[0m\n\u001b[0m\u001b[1;32m    354\u001b[0m \u001b[0;34m\u001b[0m\u001b[0m\n\u001b[1;32m    355\u001b[0m     \u001b[0;32mif\u001b[0m \u001b[0mself\u001b[0m\u001b[0;34m.\u001b[0m\u001b[0m_check_timing\u001b[0m\u001b[0;34m:\u001b[0m\u001b[0;34m\u001b[0m\u001b[0;34m\u001b[0m\u001b[0m\n",
      "\u001b[0;32m/usr/local/lib/python3.8/site-packages/keras/callbacks.py\u001b[0m in \u001b[0;36mon_train_batch_end\u001b[0;34m(self, batch, logs)\u001b[0m\n\u001b[1;32m   1026\u001b[0m \u001b[0;34m\u001b[0m\u001b[0m\n\u001b[1;32m   1027\u001b[0m   \u001b[0;32mdef\u001b[0m \u001b[0mon_train_batch_end\u001b[0m\u001b[0;34m(\u001b[0m\u001b[0mself\u001b[0m\u001b[0;34m,\u001b[0m \u001b[0mbatch\u001b[0m\u001b[0;34m,\u001b[0m \u001b[0mlogs\u001b[0m\u001b[0;34m=\u001b[0m\u001b[0;32mNone\u001b[0m\u001b[0;34m)\u001b[0m\u001b[0;34m:\u001b[0m\u001b[0;34m\u001b[0m\u001b[0;34m\u001b[0m\u001b[0m\n\u001b[0;32m-> 1028\u001b[0;31m     \u001b[0mself\u001b[0m\u001b[0;34m.\u001b[0m\u001b[0m_batch_update_progbar\u001b[0m\u001b[0;34m(\u001b[0m\u001b[0mbatch\u001b[0m\u001b[0;34m,\u001b[0m \u001b[0mlogs\u001b[0m\u001b[0;34m)\u001b[0m\u001b[0;34m\u001b[0m\u001b[0;34m\u001b[0m\u001b[0m\n\u001b[0m\u001b[1;32m   1029\u001b[0m \u001b[0;34m\u001b[0m\u001b[0m\n\u001b[1;32m   1030\u001b[0m   \u001b[0;32mdef\u001b[0m \u001b[0mon_test_batch_end\u001b[0m\u001b[0;34m(\u001b[0m\u001b[0mself\u001b[0m\u001b[0;34m,\u001b[0m \u001b[0mbatch\u001b[0m\u001b[0;34m,\u001b[0m \u001b[0mlogs\u001b[0m\u001b[0;34m=\u001b[0m\u001b[0;32mNone\u001b[0m\u001b[0;34m)\u001b[0m\u001b[0;34m:\u001b[0m\u001b[0;34m\u001b[0m\u001b[0;34m\u001b[0m\u001b[0m\n",
      "\u001b[0;32m/usr/local/lib/python3.8/site-packages/keras/callbacks.py\u001b[0m in \u001b[0;36m_batch_update_progbar\u001b[0;34m(self, batch, logs)\u001b[0m\n\u001b[1;32m   1098\u001b[0m     \u001b[0;32mif\u001b[0m \u001b[0mself\u001b[0m\u001b[0;34m.\u001b[0m\u001b[0mverbose\u001b[0m \u001b[0;34m==\u001b[0m \u001b[0;36m1\u001b[0m\u001b[0;34m:\u001b[0m\u001b[0;34m\u001b[0m\u001b[0;34m\u001b[0m\u001b[0m\n\u001b[1;32m   1099\u001b[0m       \u001b[0;31m# Only block async when verbose = 1.\u001b[0m\u001b[0;34m\u001b[0m\u001b[0;34m\u001b[0m\u001b[0;34m\u001b[0m\u001b[0m\n\u001b[0;32m-> 1100\u001b[0;31m       \u001b[0mlogs\u001b[0m \u001b[0;34m=\u001b[0m \u001b[0mtf_utils\u001b[0m\u001b[0;34m.\u001b[0m\u001b[0msync_to_numpy_or_python_type\u001b[0m\u001b[0;34m(\u001b[0m\u001b[0mlogs\u001b[0m\u001b[0;34m)\u001b[0m\u001b[0;34m\u001b[0m\u001b[0;34m\u001b[0m\u001b[0m\n\u001b[0m\u001b[1;32m   1101\u001b[0m       \u001b[0mself\u001b[0m\u001b[0;34m.\u001b[0m\u001b[0mprogbar\u001b[0m\u001b[0;34m.\u001b[0m\u001b[0mupdate\u001b[0m\u001b[0;34m(\u001b[0m\u001b[0mself\u001b[0m\u001b[0;34m.\u001b[0m\u001b[0mseen\u001b[0m\u001b[0;34m,\u001b[0m \u001b[0mlist\u001b[0m\u001b[0;34m(\u001b[0m\u001b[0mlogs\u001b[0m\u001b[0;34m.\u001b[0m\u001b[0mitems\u001b[0m\u001b[0;34m(\u001b[0m\u001b[0;34m)\u001b[0m\u001b[0;34m)\u001b[0m\u001b[0;34m,\u001b[0m \u001b[0mfinalize\u001b[0m\u001b[0;34m=\u001b[0m\u001b[0;32mFalse\u001b[0m\u001b[0;34m)\u001b[0m\u001b[0;34m\u001b[0m\u001b[0;34m\u001b[0m\u001b[0m\n\u001b[1;32m   1102\u001b[0m \u001b[0;34m\u001b[0m\u001b[0m\n",
      "\u001b[0;32m/usr/local/lib/python3.8/site-packages/keras/utils/tf_utils.py\u001b[0m in \u001b[0;36msync_to_numpy_or_python_type\u001b[0;34m(tensors)\u001b[0m\n\u001b[1;32m    514\u001b[0m     \u001b[0;32mreturn\u001b[0m \u001b[0mt\u001b[0m  \u001b[0;31m# Don't turn ragged or sparse tensors to NumPy.\u001b[0m\u001b[0;34m\u001b[0m\u001b[0;34m\u001b[0m\u001b[0m\n\u001b[1;32m    515\u001b[0m \u001b[0;34m\u001b[0m\u001b[0m\n\u001b[0;32m--> 516\u001b[0;31m   \u001b[0;32mreturn\u001b[0m \u001b[0mtf\u001b[0m\u001b[0;34m.\u001b[0m\u001b[0mnest\u001b[0m\u001b[0;34m.\u001b[0m\u001b[0mmap_structure\u001b[0m\u001b[0;34m(\u001b[0m\u001b[0m_to_single_numpy_or_python_type\u001b[0m\u001b[0;34m,\u001b[0m \u001b[0mtensors\u001b[0m\u001b[0;34m)\u001b[0m\u001b[0;34m\u001b[0m\u001b[0;34m\u001b[0m\u001b[0m\n\u001b[0m\u001b[1;32m    517\u001b[0m \u001b[0;34m\u001b[0m\u001b[0m\n\u001b[1;32m    518\u001b[0m \u001b[0;34m\u001b[0m\u001b[0m\n",
      "\u001b[0;32m/usr/local/lib/python3.8/site-packages/tensorflow/python/util/nest.py\u001b[0m in \u001b[0;36mmap_structure\u001b[0;34m(func, *structure, **kwargs)\u001b[0m\n\u001b[1;32m    867\u001b[0m \u001b[0;34m\u001b[0m\u001b[0m\n\u001b[1;32m    868\u001b[0m   return pack_sequence_as(\n\u001b[0;32m--> 869\u001b[0;31m       \u001b[0mstructure\u001b[0m\u001b[0;34m[\u001b[0m\u001b[0;36m0\u001b[0m\u001b[0;34m]\u001b[0m\u001b[0;34m,\u001b[0m \u001b[0;34m[\u001b[0m\u001b[0mfunc\u001b[0m\u001b[0;34m(\u001b[0m\u001b[0;34m*\u001b[0m\u001b[0mx\u001b[0m\u001b[0;34m)\u001b[0m \u001b[0;32mfor\u001b[0m \u001b[0mx\u001b[0m \u001b[0;32min\u001b[0m \u001b[0mentries\u001b[0m\u001b[0;34m]\u001b[0m\u001b[0;34m,\u001b[0m\u001b[0;34m\u001b[0m\u001b[0;34m\u001b[0m\u001b[0m\n\u001b[0m\u001b[1;32m    870\u001b[0m       expand_composites=expand_composites)\n\u001b[1;32m    871\u001b[0m \u001b[0;34m\u001b[0m\u001b[0m\n",
      "\u001b[0;32m/usr/local/lib/python3.8/site-packages/tensorflow/python/util/nest.py\u001b[0m in \u001b[0;36m<listcomp>\u001b[0;34m(.0)\u001b[0m\n\u001b[1;32m    867\u001b[0m \u001b[0;34m\u001b[0m\u001b[0m\n\u001b[1;32m    868\u001b[0m   return pack_sequence_as(\n\u001b[0;32m--> 869\u001b[0;31m       \u001b[0mstructure\u001b[0m\u001b[0;34m[\u001b[0m\u001b[0;36m0\u001b[0m\u001b[0;34m]\u001b[0m\u001b[0;34m,\u001b[0m \u001b[0;34m[\u001b[0m\u001b[0mfunc\u001b[0m\u001b[0;34m(\u001b[0m\u001b[0;34m*\u001b[0m\u001b[0mx\u001b[0m\u001b[0;34m)\u001b[0m \u001b[0;32mfor\u001b[0m \u001b[0mx\u001b[0m \u001b[0;32min\u001b[0m \u001b[0mentries\u001b[0m\u001b[0;34m]\u001b[0m\u001b[0;34m,\u001b[0m\u001b[0;34m\u001b[0m\u001b[0;34m\u001b[0m\u001b[0m\n\u001b[0m\u001b[1;32m    870\u001b[0m       expand_composites=expand_composites)\n\u001b[1;32m    871\u001b[0m \u001b[0;34m\u001b[0m\u001b[0m\n",
      "\u001b[0;32m/usr/local/lib/python3.8/site-packages/keras/utils/tf_utils.py\u001b[0m in \u001b[0;36m_to_single_numpy_or_python_type\u001b[0;34m(t)\u001b[0m\n\u001b[1;32m    510\u001b[0m   \u001b[0;32mdef\u001b[0m \u001b[0m_to_single_numpy_or_python_type\u001b[0m\u001b[0;34m(\u001b[0m\u001b[0mt\u001b[0m\u001b[0;34m)\u001b[0m\u001b[0;34m:\u001b[0m\u001b[0;34m\u001b[0m\u001b[0;34m\u001b[0m\u001b[0m\n\u001b[1;32m    511\u001b[0m     \u001b[0;32mif\u001b[0m \u001b[0misinstance\u001b[0m\u001b[0;34m(\u001b[0m\u001b[0mt\u001b[0m\u001b[0;34m,\u001b[0m \u001b[0mtf\u001b[0m\u001b[0;34m.\u001b[0m\u001b[0mTensor\u001b[0m\u001b[0;34m)\u001b[0m\u001b[0;34m:\u001b[0m\u001b[0;34m\u001b[0m\u001b[0;34m\u001b[0m\u001b[0m\n\u001b[0;32m--> 512\u001b[0;31m       \u001b[0mx\u001b[0m \u001b[0;34m=\u001b[0m \u001b[0mt\u001b[0m\u001b[0;34m.\u001b[0m\u001b[0mnumpy\u001b[0m\u001b[0;34m(\u001b[0m\u001b[0;34m)\u001b[0m\u001b[0;34m\u001b[0m\u001b[0;34m\u001b[0m\u001b[0m\n\u001b[0m\u001b[1;32m    513\u001b[0m       \u001b[0;32mreturn\u001b[0m \u001b[0mx\u001b[0m\u001b[0;34m.\u001b[0m\u001b[0mitem\u001b[0m\u001b[0;34m(\u001b[0m\u001b[0;34m)\u001b[0m \u001b[0;32mif\u001b[0m \u001b[0mnp\u001b[0m\u001b[0;34m.\u001b[0m\u001b[0mndim\u001b[0m\u001b[0;34m(\u001b[0m\u001b[0mx\u001b[0m\u001b[0;34m)\u001b[0m \u001b[0;34m==\u001b[0m \u001b[0;36m0\u001b[0m \u001b[0;32melse\u001b[0m \u001b[0mx\u001b[0m\u001b[0;34m\u001b[0m\u001b[0;34m\u001b[0m\u001b[0m\n\u001b[1;32m    514\u001b[0m     \u001b[0;32mreturn\u001b[0m \u001b[0mt\u001b[0m  \u001b[0;31m# Don't turn ragged or sparse tensors to NumPy.\u001b[0m\u001b[0;34m\u001b[0m\u001b[0;34m\u001b[0m\u001b[0m\n",
      "\u001b[0;32m/usr/local/lib/python3.8/site-packages/tensorflow/python/framework/ops.py\u001b[0m in \u001b[0;36mnumpy\u001b[0;34m(self)\u001b[0m\n\u001b[1;32m   1092\u001b[0m     \"\"\"\n\u001b[1;32m   1093\u001b[0m     \u001b[0;31m# TODO(slebedev): Consider avoiding a copy for non-CPU or remote tensors.\u001b[0m\u001b[0;34m\u001b[0m\u001b[0;34m\u001b[0m\u001b[0;34m\u001b[0m\u001b[0m\n\u001b[0;32m-> 1094\u001b[0;31m     \u001b[0mmaybe_arr\u001b[0m \u001b[0;34m=\u001b[0m \u001b[0mself\u001b[0m\u001b[0;34m.\u001b[0m\u001b[0m_numpy\u001b[0m\u001b[0;34m(\u001b[0m\u001b[0;34m)\u001b[0m  \u001b[0;31m# pylint: disable=protected-access\u001b[0m\u001b[0;34m\u001b[0m\u001b[0;34m\u001b[0m\u001b[0m\n\u001b[0m\u001b[1;32m   1095\u001b[0m     \u001b[0;32mreturn\u001b[0m \u001b[0mmaybe_arr\u001b[0m\u001b[0;34m.\u001b[0m\u001b[0mcopy\u001b[0m\u001b[0;34m(\u001b[0m\u001b[0;34m)\u001b[0m \u001b[0;32mif\u001b[0m \u001b[0misinstance\u001b[0m\u001b[0;34m(\u001b[0m\u001b[0mmaybe_arr\u001b[0m\u001b[0;34m,\u001b[0m \u001b[0mnp\u001b[0m\u001b[0;34m.\u001b[0m\u001b[0mndarray\u001b[0m\u001b[0;34m)\u001b[0m \u001b[0;32melse\u001b[0m \u001b[0mmaybe_arr\u001b[0m\u001b[0;34m\u001b[0m\u001b[0;34m\u001b[0m\u001b[0m\n\u001b[1;32m   1096\u001b[0m \u001b[0;34m\u001b[0m\u001b[0m\n",
      "\u001b[0;32m/usr/local/lib/python3.8/site-packages/tensorflow/python/framework/ops.py\u001b[0m in \u001b[0;36m_numpy\u001b[0;34m(self)\u001b[0m\n\u001b[1;32m   1058\u001b[0m   \u001b[0;32mdef\u001b[0m \u001b[0m_numpy\u001b[0m\u001b[0;34m(\u001b[0m\u001b[0mself\u001b[0m\u001b[0;34m)\u001b[0m\u001b[0;34m:\u001b[0m\u001b[0;34m\u001b[0m\u001b[0;34m\u001b[0m\u001b[0m\n\u001b[1;32m   1059\u001b[0m     \u001b[0;32mtry\u001b[0m\u001b[0;34m:\u001b[0m\u001b[0;34m\u001b[0m\u001b[0;34m\u001b[0m\u001b[0m\n\u001b[0;32m-> 1060\u001b[0;31m       \u001b[0;32mreturn\u001b[0m \u001b[0mself\u001b[0m\u001b[0;34m.\u001b[0m\u001b[0m_numpy_internal\u001b[0m\u001b[0;34m(\u001b[0m\u001b[0;34m)\u001b[0m\u001b[0;34m\u001b[0m\u001b[0;34m\u001b[0m\u001b[0m\n\u001b[0m\u001b[1;32m   1061\u001b[0m     \u001b[0;32mexcept\u001b[0m \u001b[0mcore\u001b[0m\u001b[0;34m.\u001b[0m\u001b[0m_NotOkStatusException\u001b[0m \u001b[0;32mas\u001b[0m \u001b[0me\u001b[0m\u001b[0;34m:\u001b[0m  \u001b[0;31m# pylint: disable=protected-access\u001b[0m\u001b[0;34m\u001b[0m\u001b[0;34m\u001b[0m\u001b[0m\n\u001b[1;32m   1062\u001b[0m       \u001b[0msix\u001b[0m\u001b[0;34m.\u001b[0m\u001b[0mraise_from\u001b[0m\u001b[0;34m(\u001b[0m\u001b[0mcore\u001b[0m\u001b[0;34m.\u001b[0m\u001b[0m_status_to_exception\u001b[0m\u001b[0;34m(\u001b[0m\u001b[0me\u001b[0m\u001b[0;34m.\u001b[0m\u001b[0mcode\u001b[0m\u001b[0;34m,\u001b[0m \u001b[0me\u001b[0m\u001b[0;34m.\u001b[0m\u001b[0mmessage\u001b[0m\u001b[0;34m)\u001b[0m\u001b[0;34m,\u001b[0m \u001b[0;32mNone\u001b[0m\u001b[0;34m)\u001b[0m  \u001b[0;31m# pylint: disable=protected-access\u001b[0m\u001b[0;34m\u001b[0m\u001b[0;34m\u001b[0m\u001b[0m\n",
      "\u001b[0;31mKeyboardInterrupt\u001b[0m: "
     ]
    }
   ],
   "source": [
    "model.fit(x_train, y_train, epochs = 100, callbacks=[cb], validation_data=(x_cv, y_cv))"
   ]
  },
  {
   "cell_type": "code",
   "execution_count": 138,
   "id": "6017059c-0f57-49b5-ab47-b1ca652d3f4d",
   "metadata": {
    "tags": []
   },
   "outputs": [
    {
     "data": {
      "text/plain": [
       "<matplotlib.legend.Legend at 0x7efd70f02d60>"
      ]
     },
     "execution_count": 138,
     "metadata": {},
     "output_type": "execute_result"
    },
    {
     "data": {
      "image/png": "[encoded data removed]",
      "text/plain": [
       "<Figure size 432x288 with 1 Axes>"
      ]
     },
     "metadata": {
      "needs_background": "light"
     },
     "output_type": "display_data"
    }
   ],
   "source": [
    "plt.plot(model.history.history['loss'])\n",
    "plt.plot(model.history.history['val_loss'])\n",
    "plt.legend(['train_loss', 'val_loss'])"
   ]
  },
  {
   "cell_type": "code",
   "execution_count": 125,
   "id": "e72acb5d-af1d-42bb-a171-9dc94e786bfc",
   "metadata": {
    "tags": []
   },
   "outputs": [],
   "source": [
    "model.save('model2.h5')"
   ]
  },
  {
   "cell_type": "code",
   "execution_count": 21,
   "id": "52b4f022-e15e-4c20-abe1-29e756989b6e",
   "metadata": {
    "tags": []
   },
   "outputs": [],
   "source": [
    "model.save('base_model.h5')"
   ]
  },
  {
   "cell_type": "markdown",
   "id": "7fa950bc-493d-4b3c-bf18-5472fc609b11",
   "metadata": {},
   "source": [
    "### Comparison"
   ]
  },
  {
   "cell_type": "code",
   "execution_count": 146,
   "id": "63d50805-2359-4b51-9c86-b95eb0df861a",
   "metadata": {
    "tags": []
   },
   "outputs": [],
   "source": [
    "model1 = tf.keras.models.load_model('model2.h5')\n",
    "model2 = tf.keras.models.load_model('model1.h5')"
   ]
  },
  {
   "cell_type": "code",
   "execution_count": 145,
   "id": "0e4477b1-ad5d-4679-8325-e1dfb4b90647",
   "metadata": {
    "tags": []
   },
   "outputs": [],
   "source": [
    "x_test = np.load('x_test.npy')\n",
    "y_test = np.load('y_test.npy')"
   ]
  },
  {
   "cell_type": "code",
   "execution_count": 147,
   "id": "a018051c-ad4c-4eb3-9c74-2d2ccccf5576",
   "metadata": {
    "tags": []
   },
   "outputs": [
    {
     "name": "stdout",
     "output_type": "stream",
     "text": [
      "6/6 [==============================] - 0s 9ms/step - loss: 0.3534 - accuracy: 0.8704\n"
     ]
    },
    {
     "data": {
      "text/plain": [
       "[0.3534114956855774, 0.8703703880310059]"
      ]
     },
     "execution_count": 147,
     "metadata": {},
     "output_type": "execute_result"
    }
   ],
   "source": [
    "model1.evaluate(x_cv, y_cv)"
   ]
  },
  {
   "cell_type": "code",
   "execution_count": 148,
   "id": "99808f53-9e24-4de8-b956-5b23be75119d",
   "metadata": {
    "tags": []
   },
   "outputs": [
    {
     "name": "stdout",
     "output_type": "stream",
     "text": [
      "6/6 [==============================] - 0s 8ms/step - loss: 0.3630 - accuracy: 0.8580\n"
     ]
    },
    {
     "data": {
      "text/plain": [
       "[0.36303749680519104, 0.8580247163772583]"
      ]
     },
     "execution_count": 148,
     "metadata": {},
     "output_type": "execute_result"
    }
   ],
   "source": [
    "model2.evaluate(x_cv, y_cv)"
   ]
  },
  {
   "cell_type": "code",
   "execution_count": 149,
   "id": "8c20b23d-6a26-4a44-b0de-54e3e75ebbfe",
   "metadata": {
    "tags": []
   },
   "outputs": [],
   "source": [
    "pred_1 = model1.predict(x_test)\n",
    "pred_2 = model2.predict(x_test)"
   ]
  },
  {
   "cell_type": "code",
   "execution_count": 151,
   "id": "851ddd19-9067-4886-9aac-3e7ac17cddf9",
   "metadata": {
    "tags": []
   },
   "outputs": [],
   "source": [
    "from sklearn.metrics import confusion_matrix, ConfusionMatrixDisplay, classification_report"
   ]
  },
  {
   "cell_type": "code",
   "execution_count": 157,
   "id": "7c931dd1-4a1f-4faf-963f-3e4cf28ed6ba",
   "metadata": {
    "tags": []
   },
   "outputs": [],
   "source": [
    "pred_1 = np.argmax(pred_1, axis = -1)\n",
    "pred_2 = np.argmax(pred_2, axis = -1)\n"
   ]
  },
  {
   "cell_type": "code",
   "execution_count": 161,
   "id": "5f1306b9-5002-4163-8ee6-f71780db8abe",
   "metadata": {
    "tags": []
   },
   "outputs": [],
   "source": [
    "y_test = np.argmax(y_test, axis = 1)"
   ]
  },
  {
   "cell_type": "code",
   "execution_count": 163,
   "id": "d27c8685-fa7e-4f57-9586-66d5c1e40c22",
   "metadata": {
    "scrolled": true,
    "tags": []
   },
   "outputs": [],
   "source": [
    "cr1 = classification_report(y_test, pred_1)\n",
    "cr2 = classification_report(y_test, pred_2)"
   ]
  },
  {
   "cell_type": "code",
   "execution_count": 164,
   "id": "5f382add-225d-4a3f-a530-0d4cbf4cf0e5",
   "metadata": {
    "tags": []
   },
   "outputs": [
    {
     "name": "stdout",
     "output_type": "stream",
     "text": [
      "Classification Report for model2.h5\n",
      "              precision    recall  f1-score   support\n",
      "\n",
      "           0       0.83      0.74      0.78        46\n",
      "           1       0.80      0.98      0.88        41\n",
      "           2       0.87      0.93      0.90        29\n",
      "           3       0.90      0.78      0.84        46\n",
      "\n",
      "    accuracy                           0.85       162\n",
      "   macro avg       0.85      0.86      0.85       162\n",
      "weighted avg       0.85      0.85      0.84       162\n",
      "\n"
     ]
    }
   ],
   "source": [
    "print(\"Classification Report for model2.h5\")\n",
    "print(cr1)"
   ]
  },
  {
   "cell_type": "code",
   "execution_count": 165,
   "id": "56360ccd-8afb-4317-b0f7-2af0bad0426d",
   "metadata": {
    "tags": []
   },
   "outputs": [
    {
     "name": "stdout",
     "output_type": "stream",
     "text": [
      "Classification Report for model1.h5\n",
      "              precision    recall  f1-score   support\n",
      "\n",
      "           0       0.81      0.76      0.79        46\n",
      "           1       0.86      0.93      0.89        41\n",
      "           2       0.93      0.97      0.95        29\n",
      "           3       0.84      0.83      0.84        46\n",
      "\n",
      "    accuracy                           0.86       162\n",
      "   macro avg       0.86      0.87      0.87       162\n",
      "weighted avg       0.86      0.86      0.86       162\n",
      "\n"
     ]
    }
   ],
   "source": [
    "print(\"Classification Report for model1.h5\")\n",
    "print(cr2)"
   ]
  },
  {
   "cell_type": "code",
   "execution_count": 166,
   "id": "2e21b170-e5f7-4c9d-86fe-d4f32a4ed84c",
   "metadata": {
    "tags": []
   },
   "outputs": [],
   "source": [
    "cm1 = confusion_matrix(y_test, pred_1)\n",
    "cm2 = confusion_matrix(y_test, pred_2)"
   ]
  },
  {
   "cell_type": "code",
   "execution_count": 167,
   "id": "74bd9350-bb4e-41b9-8723-f3d86437b95c",
   "metadata": {
    "tags": []
   },
   "outputs": [],
   "source": [
    "cm1_dis = ConfusionMatrixDisplay(cm1)\n",
    "cm2_dis = ConfusionMatrixDisplay(cm2)"
   ]
  },
  {
   "cell_type": "code",
   "execution_count": 170,
   "id": "52aff5df-28a8-4c19-800a-2fa695a0d17b",
   "metadata": {
    "tags": []
   },
   "outputs": [
    {
     "name": "stdout",
     "output_type": "stream",
     "text": [
      "Confusion Matrix for model2.h5\n"
     ]
    },
    {
     "data": {
      "text/plain": [
       "<sklearn.metrics._plot.confusion_matrix.ConfusionMatrixDisplay at 0x7f014c2829d0>"
      ]
     },
     "execution_count": 170,
     "metadata": {},
     "output_type": "execute_result"
    },
    {
     "data": {
      "image/png": "[encoded data removed]",
      "text/plain": [
       "<Figure size 432x288 with 2 Axes>"
      ]
     },
     "metadata": {
      "needs_background": "light"
     },
     "output_type": "display_data"
    }
   ],
   "source": [
    "print('Confusion Matrix for model2.h5')\n",
    "cm1_dis.plot(include_values = False)"
   ]
  },
  {
   "cell_type": "code",
   "execution_count": 171,
   "id": "098e742e-ac2e-4d20-a24f-545d09a9ef75",
   "metadata": {
    "tags": []
   },
   "outputs": [
    {
     "name": "stdout",
     "output_type": "stream",
     "text": [
      "Confusion Matrix for model1.h5\n"
     ]
    },
    {
     "data": {
      "text/plain": [
       "<sklearn.metrics._plot.confusion_matrix.ConfusionMatrixDisplay at 0x7f014c282a30>"
      ]
     },
     "execution_count": 171,
     "metadata": {},
     "output_type": "execute_result"
    },
    {
     "data": {
      "image/png": "[encoded data removed]",
      "text/plain": [
       "<Figure size 432x288 with 2 Axes>"
      ]
     },
     "metadata": {
      "needs_background": "light"
     },
     "output_type": "display_data"
    }
   ],
   "source": [
    "print('Confusion Matrix for model1.h5')\n",
    "cm2_dis.plot(include_values = False)"
   ]
  },
  {
   "cell_type": "code",
   "execution_count": 172,
   "id": "e251f633-9f75-4689-be9f-78ad77803dd8",
   "metadata": {
    "tags": []
   },
   "outputs": [],
   "source": [
    "from sklearn.metrics import f1_score"
   ]
  },
  {
   "cell_type": "code",
   "execution_count": 174,
   "id": "346c68ab-7812-40cf-bec1-581cf7c80d95",
   "metadata": {
    "tags": []
   },
   "outputs": [],
   "source": [
    "f1_model1 = f1_score(y_test, pred_1, average = 'weighted')\n",
    "f1_model2 = f1_score(y_test, pred_2, average = 'weighted')"
   ]
  },
  {
   "cell_type": "code",
   "execution_count": 175,
   "id": "5a2d1c7c-4bf3-4f3f-b55b-958bec3760d7",
   "metadata": {
    "tags": []
   },
   "outputs": [
    {
     "name": "stdout",
     "output_type": "stream",
     "text": [
      "F1 score for model2.h5 = 0.8432691786385094\n",
      "F1 score for model1.h5 = 0.8566765738068312\n"
     ]
    }
   ],
   "source": [
    "print('F1 score for model2.h5 =', f1_model1)\n",
    "print('F1 score for model1.h5 =', f1_model2)"
   ]
  },
  {
   "cell_type": "markdown",
   "id": "576ec49e-a5d8-40bc-8947-62e52e3e5958",
   "metadata": {},
   "source": [
    "### Best Model"
   ]
  },
  {
   "cell_type": "markdown",
   "id": "467d99be-0b79-438e-a1c8-a3a8a74250ae",
   "metadata": {},
   "source": [
    "The best model is stored in model1.h5"
   ]
  }
 ],
 "metadata": {
  "availableInstances": [
   {
    "_defaultOrder": 0,
    "_isFastLaunch": true,
    "category": "General purpose",
    "gpuNum": 0,
    "memoryGiB": 4,
    "name": "ml.t3.medium",
    "vcpuNum": 2
   },
   {
    "_defaultOrder": 1,
    "_isFastLaunch": false,
    "category": "General purpose",
    "gpuNum": 0,
    "memoryGiB": 8,
    "name": "ml.t3.large",
    "vcpuNum": 2
   },
   {
    "_defaultOrder": 2,
    "_isFastLaunch": false,
    "category": "General purpose",
    "gpuNum": 0,
    "memoryGiB": 16,
    "name": "ml.t3.xlarge",
    "vcpuNum": 4
   },
   {
    "_defaultOrder": 3,
    "_isFastLaunch": false,
    "category": "General purpose",
    "gpuNum": 0,
    "memoryGiB": 32,
    "name": "ml.t3.2xlarge",
    "vcpuNum": 8
   },
   {
    "_defaultOrder": 4,
    "_isFastLaunch": true,
    "category": "General purpose",
    "gpuNum": 0,
    "memoryGiB": 8,
    "name": "ml.m5.large",
    "vcpuNum": 2
   },
   {
    "_defaultOrder": 5,
    "_isFastLaunch": false,
    "category": "General purpose",
    "gpuNum": 0,
    "memoryGiB": 16,
    "name": "ml.m5.xlarge",
    "vcpuNum": 4
   },
   {
    "_defaultOrder": 6,
    "_isFastLaunch": false,
    "category": "General purpose",
    "gpuNum": 0,
    "memoryGiB": 32,
    "name": "ml.m5.2xlarge",
    "vcpuNum": 8
   },
   {
    "_defaultOrder": 7,
    "_isFastLaunch": false,
    "category": "General purpose",
    "gpuNum": 0,
    "memoryGiB": 64,
    "name": "ml.m5.4xlarge",
    "vcpuNum": 16
   },
   {
    "_defaultOrder": 8,
    "_isFastLaunch": false,
    "category": "General purpose",
    "gpuNum": 0,
    "memoryGiB": 128,
    "name": "ml.m5.8xlarge",
    "vcpuNum": 32
   },
   {
    "_defaultOrder": 9,
    "_isFastLaunch": false,
    "category": "General purpose",
    "gpuNum": 0,
    "memoryGiB": 192,
    "name": "ml.m5.12xlarge",
    "vcpuNum": 48
   },
   {
    "_defaultOrder": 10,
    "_isFastLaunch": false,
    "category": "General purpose",
    "gpuNum": 0,
    "memoryGiB": 256,
    "name": "ml.m5.16xlarge",
    "vcpuNum": 64
   },
   {
    "_defaultOrder": 11,
    "_isFastLaunch": false,
    "category": "General purpose",
    "gpuNum": 0,
    "memoryGiB": 384,
    "name": "ml.m5.24xlarge",
    "vcpuNum": 96
   },
   {
    "_defaultOrder": 12,
    "_isFastLaunch": false,
    "category": "General purpose",
    "gpuNum": 0,
    "memoryGiB": 8,
    "name": "ml.m5d.large",
    "vcpuNum": 2
   },
   {
    "_defaultOrder": 13,
    "_isFastLaunch": false,
    "category": "General purpose",
    "gpuNum": 0,
    "memoryGiB": 16,
    "name": "ml.m5d.xlarge",
    "vcpuNum": 4
   },
   {
    "_defaultOrder": 14,
    "_isFastLaunch": false,
    "category": "General purpose",
    "gpuNum": 0,
    "memoryGiB": 32,
    "name": "ml.m5d.2xlarge",
    "vcpuNum": 8
   },
   {
    "_defaultOrder": 15,
    "_isFastLaunch": false,
    "category": "General purpose",
    "gpuNum": 0,
    "memoryGiB": 64,
    "name": "ml.m5d.4xlarge",
    "vcpuNum": 16
   },
   {
    "_defaultOrder": 16,
    "_isFastLaunch": false,
    "category": "General purpose",
    "gpuNum": 0,
    "memoryGiB": 128,
    "name": "ml.m5d.8xlarge",
    "vcpuNum": 32
   },
   {
    "_defaultOrder": 17,
    "_isFastLaunch": false,
    "category": "General purpose",
    "gpuNum": 0,
    "memoryGiB": 192,
    "name": "ml.m5d.12xlarge",
    "vcpuNum": 48
   },
   {
    "_defaultOrder": 18,
    "_isFastLaunch": false,
    "category": "General purpose",
    "gpuNum": 0,
    "memoryGiB": 256,
    "name": "ml.m5d.16xlarge",
    "vcpuNum": 64
   },
   {
    "_defaultOrder": 19,
    "_isFastLaunch": false,
    "category": "General purpose",
    "gpuNum": 0,
    "memoryGiB": 384,
    "name": "ml.m5d.24xlarge",
    "vcpuNum": 96
   },
   {
    "_defaultOrder": 20,
    "_isFastLaunch": true,
    "category": "Compute optimized",
    "gpuNum": 0,
    "memoryGiB": 4,
    "name": "ml.c5.large",
    "vcpuNum": 2
   },
   {
    "_defaultOrder": 21,
    "_isFastLaunch": false,
    "category": "Compute optimized",
    "gpuNum": 0,
    "memoryGiB": 8,
    "name": "ml.c5.xlarge",
    "vcpuNum": 4
   },
   {
    "_defaultOrder": 22,
    "_isFastLaunch": false,
    "category": "Compute optimized",
    "gpuNum": 0,
    "memoryGiB": 16,
    "name": "ml.c5.2xlarge",
    "vcpuNum": 8
   },
   {
    "_defaultOrder": 23,
    "_isFastLaunch": false,
    "category": "Compute optimized",
    "gpuNum": 0,
    "memoryGiB": 32,
    "name": "ml.c5.4xlarge",
    "vcpuNum": 16
   },
   {
    "_defaultOrder": 24,
    "_isFastLaunch": false,
    "category": "Compute optimized",
    "gpuNum": 0,
    "memoryGiB": 72,
    "name": "ml.c5.9xlarge",
    "vcpuNum": 36
   },
   {
    "_defaultOrder": 25,
    "_isFastLaunch": false,
    "category": "Compute optimized",
    "gpuNum": 0,
    "memoryGiB": 96,
    "name": "ml.c5.12xlarge",
    "vcpuNum": 48
   },
   {
    "_defaultOrder": 26,
    "_isFastLaunch": false,
    "category": "Compute optimized",
    "gpuNum": 0,
    "memoryGiB": 144,
    "name": "ml.c5.18xlarge",
    "vcpuNum": 72
   },
   {
    "_defaultOrder": 27,
    "_isFastLaunch": false,
    "category": "Compute optimized",
    "gpuNum": 0,
    "memoryGiB": 192,
    "name": "ml.c5.24xlarge",
    "vcpuNum": 96
   },
   {
    "_defaultOrder": 28,
    "_isFastLaunch": true,
    "category": "Accelerated computing",
    "gpuNum": 1,
    "memoryGiB": 16,
    "name": "ml.g4dn.xlarge",
    "vcpuNum": 4
   },
   {
    "_defaultOrder": 29,
    "_isFastLaunch": false,
    "category": "Accelerated computing",
    "gpuNum": 1,
    "memoryGiB": 32,
    "name": "ml.g4dn.2xlarge",
    "vcpuNum": 8
   },
   {
    "_defaultOrder": 30,
    "_isFastLaunch": false,
    "category": "Accelerated computing",
    "gpuNum": 1,
    "memoryGiB": 64,
    "name": "ml.g4dn.4xlarge",
    "vcpuNum": 16
   },
   {
    "_defaultOrder": 31,
    "_isFastLaunch": false,
    "category": "Accelerated computing",
    "gpuNum": 1,
    "memoryGiB": 128,
    "name": "ml.g4dn.8xlarge",
    "vcpuNum": 32
   },
   {
    "_defaultOrder": 32,
    "_isFastLaunch": false,
    "category": "Accelerated computing",
    "gpuNum": 4,
    "memoryGiB": 192,
    "name": "ml.g4dn.12xlarge",
    "vcpuNum": 48
   },
   {
    "_defaultOrder": 33,
    "_isFastLaunch": false,
    "category": "Accelerated computing",
    "gpuNum": 1,
    "memoryGiB": 256,
    "name": "ml.g4dn.16xlarge",
    "vcpuNum": 64
   },
   {
    "_defaultOrder": 34,
    "_isFastLaunch": false,
    "category": "Accelerated computing",
    "gpuNum": 1,
    "memoryGiB": 61,
    "name": "ml.p3.2xlarge",
    "vcpuNum": 8
   },
   {
    "_defaultOrder": 35,
    "_isFastLaunch": false,
    "category": "Accelerated computing",
    "gpuNum": 4,
    "memoryGiB": 244,
    "name": "ml.p3.8xlarge",
    "vcpuNum": 32
   },
   {
    "_defaultOrder": 36,
    "_isFastLaunch": false,
    "category": "Accelerated computing",
    "gpuNum": 8,
    "memoryGiB": 488,
    "name": "ml.p3.16xlarge",
    "vcpuNum": 64
   },
   {
    "_defaultOrder": 37,
    "_isFastLaunch": false,
    "category": "Accelerated computing",
    "gpuNum": 8,
    "memoryGiB": 768,
    "name": "ml.p3dn.24xlarge",
    "vcpuNum": 96
   },
   {
    "_defaultOrder": 38,
    "_isFastLaunch": false,
    "category": "Memory Optimized",
    "gpuNum": 0,
    "memoryGiB": 16,
    "name": "ml.r5.large",
    "vcpuNum": 2
   },
   {
    "_defaultOrder": 39,
    "_isFastLaunch": false,
    "category": "Memory Optimized",
    "gpuNum": 0,
    "memoryGiB": 32,
    "name": "ml.r5.xlarge",
    "vcpuNum": 4
   },
   {
    "_defaultOrder": 40,
    "_isFastLaunch": false,
    "category": "Memory Optimized",
    "gpuNum": 0,
    "memoryGiB": 64,
    "name": "ml.r5.2xlarge",
    "vcpuNum": 8
   },
   {
    "_defaultOrder": 41,
    "_isFastLaunch": false,
    "category": "Memory Optimized",
    "gpuNum": 0,
    "memoryGiB": 128,
    "name": "ml.r5.4xlarge",
    "vcpuNum": 16
   },
   {
    "_defaultOrder": 42,
    "_isFastLaunch": false,
    "category": "Memory Optimized",
    "gpuNum": 0,
    "memoryGiB": 256,
    "name": "ml.r5.8xlarge",
    "vcpuNum": 32
   },
   {
    "_defaultOrder": 43,
    "_isFastLaunch": false,
    "category": "Memory Optimized",
    "gpuNum": 0,
    "memoryGiB": 384,
    "name": "ml.r5.12xlarge",
    "vcpuNum": 48
   },
   {
    "_defaultOrder": 44,
    "_isFastLaunch": false,
    "category": "Memory Optimized",
    "gpuNum": 0,
    "memoryGiB": 512,
    "name": "ml.r5.16xlarge",
    "vcpuNum": 64
   },
   {
    "_defaultOrder": 45,
    "_isFastLaunch": false,
    "category": "Memory Optimized",
    "gpuNum": 0,
    "memoryGiB": 768,
    "name": "ml.r5.24xlarge",
    "vcpuNum": 96
   },
   {
    "_defaultOrder": 46,
    "_isFastLaunch": false,
    "category": "Accelerated computing",
    "gpuNum": 1,
    "memoryGiB": 16,
    "name": "ml.g5.xlarge",
    "vcpuNum": 4
   },
   {
    "_defaultOrder": 47,
    "_isFastLaunch": false,
    "category": "Accelerated computing",
    "gpuNum": 1,
    "memoryGiB": 32,
    "name": "ml.g5.2xlarge",
    "vcpuNum": 8
   },
   {
    "_defaultOrder": 48,
    "_isFastLaunch": false,
    "category": "Accelerated computing",
    "gpuNum": 1,
    "memoryGiB": 64,
    "name": "ml.g5.4xlarge",
    "vcpuNum": 16
   },
   {
    "_defaultOrder": 49,
    "_isFastLaunch": false,
    "category": "Accelerated computing",
    "gpuNum": 1,
    "memoryGiB": 128,
    "name": "ml.g5.8xlarge",
    "vcpuNum": 32
   },
   {
    "_defaultOrder": 50,
    "_isFastLaunch": false,
    "category": "Accelerated computing",
    "gpuNum": 1,
    "memoryGiB": 256,
    "name": "ml.g5.16xlarge",
    "vcpuNum": 64
   },
   {
    "_defaultOrder": 51,
    "_isFastLaunch": false,
    "category": "Accelerated computing",
    "gpuNum": 4,
    "memoryGiB": 192,
    "name": "ml.g5.12xlarge",
    "vcpuNum": 48
   },
   {
    "_defaultOrder": 52,
    "_isFastLaunch": false,
    "category": "Accelerated computing",
    "gpuNum": 4,
    "memoryGiB": 384,
    "name": "ml.g5.24xlarge",
    "vcpuNum": 96
   },
   {
    "_defaultOrder": 53,
    "_isFastLaunch": false,
    "category": "Accelerated computing",
    "gpuNum": 8,
    "memoryGiB": 768,
    "name": "ml.g5.48xlarge",
    "vcpuNum": 192
   }
  ],
  "instance_type": "ml.g4dn.xlarge",
  "kernelspec": {
   "display_name": "Python 3 (TensorFlow 2.6 Python 3.8 GPU Optimized)",
   "language": "python",
   "name": "python3__SAGEMAKER_INTERNAL__arn:aws:sagemaker:ap-south-1:394103062818:image/tensorflow-2.6-gpu-py38-cu112-ubuntu20.04-v1"
  },
  "language_info": {
   "codemirror_mode": {
    "name": "ipython",
    "version": 3
   },
   "file_extension": ".py",
   "mimetype": "text/x-python",
   "name": "python",
   "nbconvert_exporter": "python",
   "pygments_lexer": "ipython3",
   "version": "3.8.2"
  }
 },
 "nbformat": 4,
 "nbformat_minor": 5
}
